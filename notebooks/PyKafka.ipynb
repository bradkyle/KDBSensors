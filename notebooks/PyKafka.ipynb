{
 "cells": [
  {
   "cell_type": "code",
   "execution_count": null,
   "metadata": {},
   "outputs": [],
   "source": []
  },
  {
   "cell_type": "code",
   "execution_count": 12,
   "metadata": {},
   "outputs": [
    {
     "name": "stdout",
     "output_type": "stream",
     "text": [
      "Collecting package metadata (current_repodata.json): done\n",
      "Solving environment: done\n",
      "\n",
      "\n",
      "==> WARNING: A newer version of conda exists. <==\n",
      "  current version: 4.8.3\n",
      "  latest version: 4.9.2\n",
      "\n",
      "Please update conda by running\n",
      "\n",
      "    $ conda update -n base -c defaults conda\n",
      "\n",
      "\n",
      "\n",
      "## Package Plan ##\n",
      "\n",
      "  environment location: /home/kx/.conda/envs/producer\n",
      "\n",
      "\n",
      "\n",
      "Preparing transaction: done\n",
      "Verifying transaction: done\n",
      "Executing transaction: done\n",
      "#\n",
      "# To activate this environment, use\n",
      "#\n",
      "#     $ conda activate producer\n",
      "#\n",
      "# To deactivate an active environment, use\n",
      "#\n",
      "#     $ conda deactivate\n",
      "\n"
     ]
    }
   ],
   "source": [
    "!conda create -n producer -y"
   ]
  },
  {
   "cell_type": "code",
   "execution_count": 13,
   "metadata": {},
   "outputs": [
    {
     "name": "stdout",
     "output_type": "stream",
     "text": [
      "Collecting package metadata (current_repodata.json): done\n",
      "Solving environment: failed with initial frozen solve. Retrying with flexible solve.\n",
      "Solving environment: failed with repodata from current_repodata.json, will retry with next repodata source.\n",
      "Collecting package metadata (repodata.json): done\n",
      "Solving environment: done\n",
      "\n",
      "\n",
      "==> WARNING: A newer version of conda exists. <==\n",
      "  current version: 4.8.3\n",
      "  latest version: 4.9.2\n",
      "\n",
      "Please update conda by running\n",
      "\n",
      "    $ conda update -n base -c defaults conda\n",
      "\n",
      "\n",
      "\n",
      "## Package Plan ##\n",
      "\n",
      "  environment location: /home/kx/.conda/envs/producer\n",
      "\n",
      "  added / updated specs:\n",
      "    - ipykernel\n",
      "\n",
      "\n",
      "The following NEW packages will be INSTALLED:\n",
      "\n",
      "  backcall           anaconda/noarch::backcall-0.2.0-py_0\n",
      "  ca-certificates    anaconda/linux-64::ca-certificates-2020.10.14-0\n",
      "  certifi            anaconda/linux-64::certifi-2020.6.20-py38_0\n",
      "  decorator          anaconda/noarch::decorator-4.4.2-py_0\n",
      "  ipykernel          anaconda/linux-64::ipykernel-5.3.4-py38h5ca1d4c_0\n",
      "  ipython            anaconda/linux-64::ipython-7.18.1-py38h5ca1d4c_0\n",
      "  ipython_genutils   anaconda/linux-64::ipython_genutils-0.2.0-py38_0\n",
      "  jedi               anaconda/linux-64::jedi-0.17.2-py38_0\n",
      "  jupyter_client     anaconda/noarch::jupyter_client-6.1.7-py_0\n",
      "  jupyter_core       anaconda/linux-64::jupyter_core-4.6.3-py38_0\n",
      "  ld_impl_linux-64   anaconda/linux-64::ld_impl_linux-64-2.33.1-h53a641e_7\n",
      "  libedit            anaconda/linux-64::libedit-3.1.20191231-h14c3975_1\n",
      "  libffi             anaconda/linux-64::libffi-3.3-he6710b0_2\n",
      "  libgcc-ng          anaconda/linux-64::libgcc-ng-9.1.0-hdf63c60_0\n",
      "  libsodium          anaconda/linux-64::libsodium-1.0.18-h7b6447c_0\n",
      "  libstdcxx-ng       anaconda/linux-64::libstdcxx-ng-9.1.0-hdf63c60_0\n",
      "  ncurses            anaconda/linux-64::ncurses-6.2-he6710b0_1\n",
      "  openssl            anaconda/linux-64::openssl-1.1.1h-h7b6447c_0\n",
      "  parso              anaconda/noarch::parso-0.7.0-py_0\n",
      "  pexpect            anaconda/linux-64::pexpect-4.8.0-py38_0\n",
      "  pickleshare        anaconda/linux-64::pickleshare-0.7.5-py38_1000\n",
      "  pip                anaconda/linux-64::pip-20.2.4-py38_0\n",
      "  prompt-toolkit     anaconda/noarch::prompt-toolkit-3.0.8-py_0\n",
      "  ptyprocess         anaconda/linux-64::ptyprocess-0.6.0-py38_0\n",
      "  pygments           anaconda/noarch::pygments-2.7.1-py_0\n",
      "  python             anaconda/linux-64::python-3.8.5-h7579374_1\n",
      "  python-dateutil    anaconda/noarch::python-dateutil-2.8.1-py_0\n",
      "  pyzmq              anaconda/linux-64::pyzmq-19.0.2-py38he6710b0_1\n",
      "  readline           anaconda/linux-64::readline-8.0-h7b6447c_0\n",
      "  setuptools         anaconda/linux-64::setuptools-50.3.0-py38hb0f4dca_1\n",
      "  six                anaconda/noarch::six-1.15.0-py_0\n",
      "  sqlite             anaconda/linux-64::sqlite-3.33.0-h62c20be_0\n",
      "  tk                 anaconda/linux-64::tk-8.6.10-hbc83047_0\n",
      "  tornado            anaconda/linux-64::tornado-6.0.4-py38h7b6447c_1\n",
      "  traitlets          anaconda/noarch::traitlets-5.0.5-py_0\n",
      "  wcwidth            anaconda/noarch::wcwidth-0.2.5-py_0\n",
      "  wheel              anaconda/noarch::wheel-0.35.1-py_0\n",
      "  xz                 anaconda/linux-64::xz-5.2.5-h7b6447c_0\n",
      "  zeromq             anaconda/linux-64::zeromq-4.3.3-he6710b0_3\n",
      "  zlib               anaconda/linux-64::zlib-1.2.11-h7b6447c_3\n",
      "\n",
      "\n",
      "Preparing transaction: done\n",
      "Verifying transaction: done\n",
      "Executing transaction: done\n"
     ]
    }
   ],
   "source": [
    "!conda install -n producer -c anaconda ipykernel -y"
   ]
  },
  {
   "cell_type": "code",
   "execution_count": 14,
   "metadata": {},
   "outputs": [
    {
     "name": "stdout",
     "output_type": "stream",
     "text": [
      "Collecting package metadata (current_repodata.json): done\n",
      "Solving environment: done\n",
      "\n",
      "\n",
      "==> WARNING: A newer version of conda exists. <==\n",
      "  current version: 4.8.3\n",
      "  latest version: 4.9.2\n",
      "\n",
      "Please update conda by running\n",
      "\n",
      "    $ conda update -n base -c defaults conda\n",
      "\n",
      "\n",
      "\n",
      "## Package Plan ##\n",
      "\n",
      "  environment location: /home/kx/.conda/envs/producer\n",
      "\n",
      "  added / updated specs:\n",
      "    - aiokafka\n",
      "\n",
      "\n",
      "The following NEW packages will be INSTALLED:\n",
      "\n",
      "  aiokafka           conda-forge/linux-64::aiokafka-0.7.0-py38h25fe258_0\n",
      "  kafka-python       conda-forge/noarch::kafka-python-2.0.2-pyh9f0ad1d_0\n",
      "  python_abi         conda-forge/linux-64::python_abi-3.8-1_cp38\n",
      "\n",
      "The following packages will be UPDATED:\n",
      "\n",
      "  ca-certificates    anaconda::ca-certificates-2020.10.14-0 --> conda-forge::ca-certificates-2020.11.8-ha878542_0\n",
      "  certifi                anaconda::certifi-2020.6.20-py38_0 --> conda-forge::certifi-2020.11.8-py38h578d9bd_0\n",
      "\n",
      "The following packages will be SUPERSEDED by a higher-priority channel:\n",
      "\n",
      "  openssl               anaconda::openssl-1.1.1h-h7b6447c_0 --> conda-forge::openssl-1.1.1h-h516909a_0\n",
      "\n",
      "\n",
      "Preparing transaction: done\n",
      "Verifying transaction: done\n",
      "Executing transaction: done\n"
     ]
    }
   ],
   "source": [
    "!conda install -n producer -c conda-forge aiokafka -y"
   ]
  },
  {
   "cell_type": "code",
   "execution_count": 15,
   "metadata": {},
   "outputs": [
    {
     "name": "stdout",
     "output_type": "stream",
     "text": [
      "Collecting package metadata (current_repodata.json): done\n",
      "Solving environment: done\n",
      "\n",
      "\n",
      "==> WARNING: A newer version of conda exists. <==\n",
      "  current version: 4.8.3\n",
      "  latest version: 4.9.2\n",
      "\n",
      "Please update conda by running\n",
      "\n",
      "    $ conda update -n base -c defaults conda\n",
      "\n",
      "\n",
      "\n",
      "## Package Plan ##\n",
      "\n",
      "  environment location: /home/kx/.conda/envs/producer\n",
      "\n",
      "  added / updated specs:\n",
      "    - nest-asyncio\n",
      "\n",
      "\n",
      "The following NEW packages will be INSTALLED:\n",
      "\n",
      "  nest-asyncio       conda-forge/noarch::nest-asyncio-1.4.3-pyhd8ed1ab_0\n",
      "\n",
      "\n",
      "Preparing transaction: done\n",
      "Verifying transaction: done\n",
      "Executing transaction: done\n"
     ]
    }
   ],
   "source": [
    "!conda install -n producer -c conda-forge nest-asyncio -y"
   ]
  },
  {
   "cell_type": "code",
   "execution_count": 16,
   "metadata": {},
   "outputs": [
    {
     "name": "stdout",
     "output_type": "stream",
     "text": [
      "# conda environments:\r\n",
      "#\r\n",
      "kx                    *  /home/kx/.conda/envs/kx\r\n",
      "producer                 /home/kx/.conda/envs/producer\r\n",
      "base                     /opt/conda\r\n",
      "\r\n"
     ]
    }
   ],
   "source": [
    "!conda env list"
   ]
  },
  {
   "cell_type": "code",
   "execution_count": 17,
   "metadata": {},
   "outputs": [
    {
     "name": "stdout",
     "output_type": "stream",
     "text": [
      "Installed kernelspec producer in /home/kx/.local/share/jupyter/kernels/producer\r\n",
      "\r\n"
     ]
    }
   ],
   "source": [
    "!conda run -n producer python -m ipykernel install --user --name=producer"
   ]
  },
  {
   "cell_type": "code",
   "execution_count": null,
   "metadata": {},
   "outputs": [],
   "source": []
  },
  {
   "cell_type": "code",
   "execution_count": null,
   "metadata": {},
   "outputs": [],
   "source": []
  },
  {
   "cell_type": "code",
   "execution_count": 1,
   "metadata": {},
   "outputs": [],
   "source": [
    "import nest_asyncio\n",
    "nest_asyncio.apply()"
   ]
  },
  {
   "cell_type": "code",
   "execution_count": 3,
   "metadata": {},
   "outputs": [
    {
     "name": "stderr",
     "output_type": "stream",
     "text": [
      "Topic my_topic is not available during auto-create initialization\n",
      "Topic my_topic is not available during auto-create initialization\n",
      "Topic my_topic is not available during auto-create initialization\n",
      "Topic my_topic is not available during auto-create initialization\n",
      "Topic my_topic is not available during auto-create initialization\n"
     ]
    }
   ],
   "source": [
    "from aiokafka import AIOKafkaProducer\n",
    "import asyncio\n",
    "\n",
    "loop = asyncio.get_event_loop()\n",
    "\n",
    "async def send_one():\n",
    "    producer = AIOKafkaProducer(\n",
    "        loop=loop, bootstrap_servers='kafka:9092')\n",
    "    # Get cluster layout and initial topic/partition leadership information\n",
    "    await producer.start()\n",
    "    try:\n",
    "        # Produce message\n",
    "        await producer.send_and_wait(\"my_topic\", b\"Super message\")\n",
    "    finally:\n",
    "        # Wait for all pending messages to be delivered or expire.\n",
    "        await producer.stop()\n",
    "\n",
    "loop.run_until_complete(send_one())"
   ]
  },
  {
   "cell_type": "code",
   "execution_count": 14,
   "metadata": {},
   "outputs": [],
   "source": [
    "from kafka import KafkaProducer"
   ]
  },
  {
   "cell_type": "code",
   "execution_count": 15,
   "metadata": {},
   "outputs": [],
   "source": [
    "producer = KafkaProducer(bootstrap_servers='kafka1:9092')"
   ]
  },
  {
   "cell_type": "code",
   "execution_count": 16,
   "metadata": {},
   "outputs": [
    {
     "ename": "KafkaTimeoutError",
     "evalue": "KafkaTimeoutError: Failed to update metadata after 60.0 secs.",
     "output_type": "error",
     "traceback": [
      "\u001b[0;31m---------------------------------------------------------------------------\u001b[0m",
      "\u001b[0;31mKafkaTimeoutError\u001b[0m                         Traceback (most recent call last)",
      "\u001b[0;32m<ipython-input-16-ed108ac555ab>\u001b[0m in \u001b[0;36m<module>\u001b[0;34m\u001b[0m\n\u001b[1;32m      1\u001b[0m \u001b[0;32mfor\u001b[0m \u001b[0m_\u001b[0m \u001b[0;32min\u001b[0m \u001b[0mrange\u001b[0m\u001b[0;34m(\u001b[0m\u001b[0;36m100\u001b[0m\u001b[0;34m)\u001b[0m\u001b[0;34m:\u001b[0m\u001b[0;34m\u001b[0m\u001b[0;34m\u001b[0m\u001b[0m\n\u001b[0;32m----> 2\u001b[0;31m     \u001b[0mproducer\u001b[0m\u001b[0;34m.\u001b[0m\u001b[0msend\u001b[0m\u001b[0;34m(\u001b[0m\u001b[0;34m'foobar'\u001b[0m\u001b[0;34m,\u001b[0m \u001b[0;34mb'some_message_bytes'\u001b[0m\u001b[0;34m)\u001b[0m\u001b[0;34m\u001b[0m\u001b[0;34m\u001b[0m\u001b[0m\n\u001b[0m",
      "\u001b[0;32m~/.conda/envs/producer/lib/python3.8/site-packages/kafka/producer/kafka.py\u001b[0m in \u001b[0;36msend\u001b[0;34m(self, topic, value, key, headers, partition, timestamp_ms)\u001b[0m\n\u001b[1;32m    574\u001b[0m         \u001b[0mkey_bytes\u001b[0m \u001b[0;34m=\u001b[0m \u001b[0mvalue_bytes\u001b[0m \u001b[0;34m=\u001b[0m \u001b[0;32mNone\u001b[0m\u001b[0;34m\u001b[0m\u001b[0;34m\u001b[0m\u001b[0m\n\u001b[1;32m    575\u001b[0m         \u001b[0;32mtry\u001b[0m\u001b[0;34m:\u001b[0m\u001b[0;34m\u001b[0m\u001b[0;34m\u001b[0m\u001b[0m\n\u001b[0;32m--> 576\u001b[0;31m             \u001b[0mself\u001b[0m\u001b[0;34m.\u001b[0m\u001b[0m_wait_on_metadata\u001b[0m\u001b[0;34m(\u001b[0m\u001b[0mtopic\u001b[0m\u001b[0;34m,\u001b[0m \u001b[0mself\u001b[0m\u001b[0;34m.\u001b[0m\u001b[0mconfig\u001b[0m\u001b[0;34m[\u001b[0m\u001b[0;34m'max_block_ms'\u001b[0m\u001b[0;34m]\u001b[0m \u001b[0;34m/\u001b[0m \u001b[0;36m1000.0\u001b[0m\u001b[0;34m)\u001b[0m\u001b[0;34m\u001b[0m\u001b[0;34m\u001b[0m\u001b[0m\n\u001b[0m\u001b[1;32m    577\u001b[0m \u001b[0;34m\u001b[0m\u001b[0m\n\u001b[1;32m    578\u001b[0m             key_bytes = self._serialize(\n",
      "\u001b[0;32m~/.conda/envs/producer/lib/python3.8/site-packages/kafka/producer/kafka.py\u001b[0m in \u001b[0;36m_wait_on_metadata\u001b[0;34m(self, topic, max_wait)\u001b[0m\n\u001b[1;32m    700\u001b[0m             \u001b[0melapsed\u001b[0m \u001b[0;34m=\u001b[0m \u001b[0mtime\u001b[0m\u001b[0;34m.\u001b[0m\u001b[0mtime\u001b[0m\u001b[0;34m(\u001b[0m\u001b[0;34m)\u001b[0m \u001b[0;34m-\u001b[0m \u001b[0mbegin\u001b[0m\u001b[0;34m\u001b[0m\u001b[0;34m\u001b[0m\u001b[0m\n\u001b[1;32m    701\u001b[0m             \u001b[0;32mif\u001b[0m \u001b[0;32mnot\u001b[0m \u001b[0mmetadata_event\u001b[0m\u001b[0;34m.\u001b[0m\u001b[0mis_set\u001b[0m\u001b[0;34m(\u001b[0m\u001b[0;34m)\u001b[0m\u001b[0;34m:\u001b[0m\u001b[0;34m\u001b[0m\u001b[0;34m\u001b[0m\u001b[0m\n\u001b[0;32m--> 702\u001b[0;31m                 raise Errors.KafkaTimeoutError(\n\u001b[0m\u001b[1;32m    703\u001b[0m                     \"Failed to update metadata after %.1f secs.\" % (max_wait,))\n\u001b[1;32m    704\u001b[0m             \u001b[0;32melif\u001b[0m \u001b[0mtopic\u001b[0m \u001b[0;32min\u001b[0m \u001b[0mself\u001b[0m\u001b[0;34m.\u001b[0m\u001b[0m_metadata\u001b[0m\u001b[0;34m.\u001b[0m\u001b[0munauthorized_topics\u001b[0m\u001b[0;34m:\u001b[0m\u001b[0;34m\u001b[0m\u001b[0;34m\u001b[0m\u001b[0m\n",
      "\u001b[0;31mKafkaTimeoutError\u001b[0m: KafkaTimeoutError: Failed to update metadata after 60.0 secs."
     ]
    }
   ],
   "source": [
    "for _ in range(100):\n",
    "    producer.send('foobar', b'some_message_bytes')"
   ]
  }
 ],
 "metadata": {
  "kernelspec": {
   "display_name": "producer",
   "language": "python",
   "name": "producer"
  },
  "language_info": {
   "codemirror_mode": {
    "name": "ipython",
    "version": 3
   },
   "file_extension": ".py",
   "mimetype": "text/x-python",
   "name": "python",
   "nbconvert_exporter": "python",
   "pygments_lexer": "ipython3",
   "version": "3.8.5"
  }
 },
 "nbformat": 4,
 "nbformat_minor": 4
}
