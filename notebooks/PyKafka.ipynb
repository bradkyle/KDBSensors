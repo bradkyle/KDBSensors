{
 "cells": [
  {
   "cell_type": "code",
   "execution_count": 8,
   "metadata": {},
   "outputs": [
    {
     "name": "stdout",
     "output_type": "stream",
     "text": [
      "Cloning into 'librdkafka'...\n",
      "remote: Enumerating objects: 167, done.\u001b[K\n",
      "remote: Counting objects: 100% (167/167), done.\u001b[K\n",
      "remote: Compressing objects: 100% (91/91), done.\u001b[K\n",
      "remote: Total 23614 (delta 91), reused 116 (delta 75), pack-reused 23447\u001b[K\n",
      "Receiving objects: 100% (23614/23614), 16.55 MiB | 9.94 MiB/s, done.\n",
      "Resolving deltas: 100% (18105/18105), done.\n"
     ]
    }
   ],
   "source": [
    "!git clone https://github.com/edenhill/librdkafka.git"
   ]
  },
  {
   "cell_type": "code",
   "execution_count": 11,
   "metadata": {},
   "outputs": [
    {
     "name": "stdout",
     "output_type": "stream",
     "text": [
      "CHANGELOG.md\t    LICENSE.hdrhistogram  Makefile\t  mainpage.doxy\r\n",
      "CMakeLists.txt\t    LICENSE.lz4\t\t  README.md\t  mklove\r\n",
      "CODE_OF_CONDUCT.md  LICENSE.murmur2\t  README.win32\t  packaging\r\n",
      "CONFIGURATION.md    LICENSE.pycrc\t  STATISTICS.md   src\r\n",
      "CONTRIBUTING.md     LICENSE.queue\t  configure\t  src-cpp\r\n",
      "Doxyfile\t    LICENSE.regexp\t  configure.self  tests\r\n",
      "INTRODUCTION.md     LICENSE.snappy\t  debian\t  win32\r\n",
      "LICENSE\t\t    LICENSE.tinycthread   dev-conf.sh\r\n",
      "LICENSE.crc32c\t    LICENSE.wingetopt\t  examples\r\n",
      "LICENSE.fnv1a\t    LICENSES.txt\t  lds-gen.py\r\n"
     ]
    }
   ],
   "source": [
    "!ls"
   ]
  },
  {
   "cell_type": "code",
   "execution_count": 13,
   "metadata": {},
   "outputs": [
    {
     "name": "stdout",
     "output_type": "stream",
     "text": [
      "make[1]: Entering directory '/home/kx/mb/librdkafka/tests'\n",
      "rm -f *.test 0075-retry.o 0034-offset_reset.o 0084-destroy_flags.o 0117-mock_errors.o 0012-produce_consume.o 0041-fetch_max_bytes.o 0006-symbols.o 0036-partial_fetch.o 0068-produce_timeout.o 0051-assign_adds.o 0019-list_groups.o 0014-reconsume-191.o 0017-compression.o 0077-compaction.o 0005-order.o 0031-get_offsets.o 0009-mock_cluster.o 0076-produce_retry.o 0003-msgmaxsize.o 0107-topic_recreate.o 0043-no_connection.o 0001-multiobj.o 0007-autotopic.o 0099-commit_metadata.o 0064-interceptors.o 0048-partitioner.o 0118-commit_rebalance.o 0091-max_poll_interval_timeout.o 0011-produce_batch.o 0028-long_topicnames.o 0069-consumer_add_parts.o 0016-client_swname.o 0104-fetch_from_follower_mock.o 0025-timers.o 0094-idempotence_msg_timeout.o 0080-admin_ut.o 0029-assign_offset.o 0038-performance.o 0079-fork.o 0090-idempotence.o 0055-producer_latency.o 0050-subscribe_adds.o 0056-balanced_group_mt.o 0022-consume_batch.o 0020-destroy_hang.o 0081-admin.o 0088-produce_metadata_timeout.o 0040-io_event.o 0002-unkpart.o 0093-holb.o 0103-transactions.o 0044-partition_cnt.o 0092-mixed_msgver.o 0004-conf.o 0112-assign_unknown_part.o 0013-null-msgs.o 0083-cb_event.o 0008-reqacks.o 0072-headers_ut.o 0052-msg_timestamps.o 0046-rkt_cache.o 0102-static_group_rebalance.o 0047-partial_buf_tmout.o 0030-offset_commit.o 0089-max_poll_interval.o 0026-consume_pause.o 0042-many_topics.o 0033-regex_subscribe.o 0045-subscribe_update.o 0015-offset_seeks.o 0105-transactions_mock.o 0049-consume_conn_close.o 0018-cgrp_term.o 0000-unittests.o 0073-headers.o 0039-event.o 0062-stats_event.o 0037-destroy_hang_local.o 0035-api_version.o 0106-cgrp_sess_timeout.o 0074-producev.o 0021-rkt_destroy.o 0086-purge.o 0110-batch_size.o 0059-bsearch.o 0067-empty_topic.o 0085-headers.o 0109-auto_create_topics.o 0114-sticky_partitioning.o 0111-delay_create_topics.o 0116-kafkaconsumer_close.o 0082-fetch_max_bytes.o 0098-consumer-txn.o 0115-producer_auth.o 0101-fetch-from-follower.o 0097-ssl_verify.o 0060-op_prio.o 0065-yield.o 0058-log.o 0095-all_brokers_down.o 0063-clusterid.o 0054-offset_time.o 0070-null_empty.o 0061-consumer_lag.o 0100-thread_interceptors.o 0053-stats_cb.o 0057-invalid_topic.o 8000-idle.o 0066-plugins.o 0113-cooperative_rebalance.o 0078-c_from_cpp.o 0119-consumer_auth.o test.o rusage.o testcpp.o tinycthread.o tinycthread_extra.o rdlist.o sockem.o sockem_ctrl.o test-runner\n",
      "make -C interceptor_test clean\n",
      "make[2]: Entering directory '/home/kx/mb/librdkafka/tests/interceptor_test'\n",
      "rm -f interceptor_test.o interceptor_test.d\n",
      "rm -f interceptor_test*.a interceptor_test.1 interceptor_test \\\n",
      "\t\n",
      "make[2]: Leaving directory '/home/kx/mb/librdkafka/tests/interceptor_test'\n",
      "make[1]: Leaving directory '/home/kx/mb/librdkafka/tests'\n",
      "make[1]: Entering directory '/home/kx/mb/librdkafka/examples'\n",
      "rm -f rdkafka_example rdkafka_performance rdkafka_example_cpp rdkafka_complex_consumer_example rdkafka_complex_consumer_example_cpp kafkatest_verifiable_client producer consumer idempotent_producer transactions\n",
      "make[1]: Leaving directory '/home/kx/mb/librdkafka/examples'\n",
      "make[1]: Entering directory '/home/kx/mb/librdkafka/src'\n",
      "rm -f rdkafka.o rdkafka_broker.o rdkafka_msg.o rdkafka_topic.o rdkafka_conf.o rdkafka_timer.o rdkafka_offset.o rdkafka_transport.o rdkafka_buf.o rdkafka_queue.o rdkafka_op.o rdkafka_request.o rdkafka_cgrp.o rdkafka_pattern.o rdkafka_partition.o rdkafka_subscription.o rdkafka_assignment.o rdkafka_assignor.o rdkafka_range_assignor.o rdkafka_roundrobin_assignor.o rdkafka_sticky_assignor.o rdkafka_feature.o rdcrc32.o crc32c.o rdmurmur2.o rdfnv1a.o rdaddr.o rdrand.o rdlist.o tinycthread.o tinycthread_extra.o rdlog.o rdstring.o rdkafka_event.o rdkafka_metadata.o rdregex.o rdports.o rdkafka_metadata_cache.o rdavl.o rdkafka_sasl.o rdkafka_sasl_plain.o rdkafka_interceptor.o rdkafka_msgset_writer.o rdkafka_msgset_reader.o rdkafka_header.o rdkafka_admin.o rdkafka_aux.o rdkafka_background.o rdkafka_idempotence.o rdkafka_cert.o rdkafka_txnmgr.o rdkafka_coord.o rdvarint.o rdbuf.o rdmap.o rdunittest.o rdkafka_mock.o rdkafka_mock_handlers.o rdkafka_mock_cgrp.o rdkafka_error.o rdkafka_lz4.o rdxxhash.o lz4.o lz4frame.o lz4hc.o regexp.o rdkafka.d rdkafka_broker.d rdkafka_msg.d rdkafka_topic.d rdkafka_conf.d rdkafka_timer.d rdkafka_offset.d rdkafka_transport.d rdkafka_buf.d rdkafka_queue.d rdkafka_op.d rdkafka_request.d rdkafka_cgrp.d rdkafka_pattern.d rdkafka_partition.d rdkafka_subscription.d rdkafka_assignment.d rdkafka_assignor.d rdkafka_range_assignor.d rdkafka_roundrobin_assignor.d rdkafka_sticky_assignor.d rdkafka_feature.d rdcrc32.d crc32c.d rdmurmur2.d rdfnv1a.d rdaddr.d rdrand.d rdlist.d tinycthread.d tinycthread_extra.d rdlog.d rdstring.d rdkafka_event.d rdkafka_metadata.d rdregex.d rdports.d rdkafka_metadata_cache.d rdavl.d rdkafka_sasl.d rdkafka_sasl_plain.d rdkafka_interceptor.d rdkafka_msgset_writer.d rdkafka_msgset_reader.d rdkafka_header.d rdkafka_admin.d rdkafka_aux.d rdkafka_background.d rdkafka_idempotence.d rdkafka_cert.d rdkafka_txnmgr.d rdkafka_coord.d rdvarint.d rdbuf.d rdmap.d rdunittest.d rdkafka_mock.d rdkafka_mock_handlers.d rdkafka_mock_cgrp.d rdkafka_error.d rdkafka_lz4.d rdxxhash.d lz4.d lz4frame.d lz4hc.d regexp.d\n",
      "rm -f librdkafka*.a librdkafka.1 librdkafka \\\n",
      "\t\n",
      "make[1]: Leaving directory '/home/kx/mb/librdkafka/src'\n",
      "make[1]: Entering directory '/home/kx/mb/librdkafka/src-cpp'\n",
      "rm -f RdKafka.o ConfImpl.o HandleImpl.o ConsumerImpl.o ProducerImpl.o KafkaConsumerImpl.o TopicImpl.o TopicPartitionImpl.o MessageImpl.o HeadersImpl.o QueueImpl.o MetadataImpl.o RdKafka.d ConfImpl.d HandleImpl.d ConsumerImpl.d ProducerImpl.d KafkaConsumerImpl.d TopicImpl.d TopicPartitionImpl.d MessageImpl.d HeadersImpl.d QueueImpl.d MetadataImpl.d\n",
      "rm -f librdkafka++*.a librdkafka++.1 librdkafka++ \\\n",
      "\t\n",
      "make[1]: Leaving directory '/home/kx/mb/librdkafka/src-cpp'\n"
     ]
    }
   ],
   "source": [
    "!make clean"
   ]
  },
  {
   "cell_type": "code",
   "execution_count": 15,
   "metadata": {},
   "outputs": [
    {
     "name": "stdout",
     "output_type": "stream",
     "text": [
      "checking for OS or distribution... \u001b[32mok\u001b[m (debian)\n",
      "checking for C compiler from CC env... \u001b[33mfailed\u001b[m\n",
      "checking for gcc (by command)... \u001b[32mok\u001b[m\n",
      "checking for C++ compiler from CXX env... \u001b[33mfailed\u001b[m\n",
      "checking for C++ compiler (g++)... \u001b[32mok\u001b[m\n",
      "checking for mbits compiler flag (-m64)... \u001b[32mok\u001b[m\n",
      "checking executable ld... \u001b[32mok\u001b[m\n",
      "checking executable nm... \u001b[32mok\u001b[m\n",
      "checking executable objdump... \u001b[32mok\u001b[m\n",
      "checking executable strip... \u001b[32mok\u001b[m\n",
      "checking executable libtool... \u001b[33mfailed\u001b[m (disable)\n",
      "checking for pkgconfig (by command)... \u001b[33mfailed\u001b[m\n",
      "checking for install (by command)... \u001b[32mok\u001b[m\n",
      "checking for PIC (by compile)... \u001b[32mok\u001b[m\n",
      "checking for GNU-compatible linker options... \u001b[32mok\u001b[m\n",
      "checking for GNU linker-script ld flag... \u001b[32mok\u001b[m\n",
      "checking for __atomic_32 (by compile)... \u001b[32mok\u001b[m\n",
      "checking for __atomic_64 (by compile)... \u001b[32mok\u001b[m\n",
      "checking for socket (by compile)... \u001b[32mok\u001b[m\n",
      "parsing version '0x01060000'... \u001b[32mok\u001b[m (1.6.0)\n",
      "checking for librt (by compile)... \u001b[32mok\u001b[m\n",
      "checking for libpthread (by compile)... \u001b[32mok\u001b[m\n",
      "checking for c11threads (by compile)... \u001b[33mfailed\u001b[m (disable)\n",
      "checking for libdl (by compile)... \u001b[32mok\u001b[m\n",
      "checking for zlib (by compile)... \u001b[33mfailed\u001b[m (disable)\n",
      "checking for libzstd (by compile)... \u001b[33mfailed\u001b[m (disable)\n",
      "checking for libm (by compile)... \u001b[32mok\u001b[m\n",
      "checking for syslog (by compile)... \u001b[32mok\u001b[m\n",
      "checking for rapidjson (by compile)... \u001b[33mfailed\u001b[m (disable)\n",
      "checking for crc32chw (by compile)... \u001b[32mok\u001b[m\n",
      "checking for regex (by compile)... \u001b[32mok\u001b[m\n",
      "checking for rand_r (by compile)... \u001b[32mok\u001b[m\n",
      "checking for strndup (by compile)... \u001b[32mok\u001b[m\n",
      "checking for strlcpy (by compile)... \u001b[33mfailed\u001b[m (disable)\n",
      "checking for strerror_r (by compile)... \u001b[32mok\u001b[m\n",
      "checking for pthread_setname_gnu (by compile)... \u001b[32mok\u001b[m\n",
      "checking for nm (by env NM)... \u001b[32mok\u001b[m (cached)\n",
      "checking for python3 (by command)... \u001b[32mok\u001b[m\n",
      "checking for getrusage (by compile)... \u001b[32mok\u001b[m\n",
      "Generated Makefile.config\n",
      "Generated config.h\n",
      "\n",
      "Configuration summary:\n",
      "  prefix                   /home/kx\n",
      "  MKL_DISTRO               debian\n",
      "  SOLIB_EXT                .so\n",
      "  ARCH                     x86_64\n",
      "  CPU                      generic\n",
      "  GEN_PKG_CONFIG           y\n",
      "  MBITS                    64\n",
      "  MKL_APP_NAME             librdkafka\n",
      "  MKL_APP_DESC_ONELINE     The Apache Kafka C/C++ library\n",
      "  CC                       gcc\n",
      "  CXX                      g++\n",
      "  CPPFLAGS                 -m64 -g -O2 -fPIC -Wall -Wsign-compare -Wfloat-equal -Wpointer-arith -Wcast-align\n",
      "  LDFLAGS                  -m64\n",
      "  LD                       ld\n",
      "  NM                       nm\n",
      "  OBJDUMP                  objdump\n",
      "  STRIP                    strip\n",
      "  PKG_CONFIG               pkg-config\n",
      "  INSTALL                  install\n",
      "  LIB_LDFLAGS              -shared -Wl,-soname,$(LIBFILENAME)\n",
      "  LDFLAG_LINKERSCRIPT      -Wl,--version-script=\n",
      "  RDKAFKA_VERSION_STR      1.6.0\n",
      "  MKL_APP_VERSION          1.6.0\n",
      "  LIBS                     -lm -ldl -lpthread -lrt\n",
      "  MKL_PKGCONFIG_LIBS_PRIVATE -lm -ldl -lpthread -lrt\n",
      "  CXXFLAGS                 -Wno-non-virtual-dtor\n",
      "  SYMDUMPER                $(NM) -D\n",
      "  MKL_DYNAMIC_LIBS         -lm -ldl -lpthread -lrt\n",
      "  exec_prefix              /home/kx\n",
      "  bindir                   /home/kx/bin\n",
      "  sbindir                  /home/kx/sbin\n",
      "  libexecdir               /home/kx/libexec\n",
      "  datadir                  /home/kx/share\n",
      "  sysconfdir               /home/kx/etc\n",
      "  sharedstatedir           /home/kx/com\n",
      "  localstatedir            /home/kx/var\n",
      "  runstatedir              /home/kx/var/run\n",
      "  libdir                   /home/kx/lib\n",
      "  includedir               /home/kx/include\n",
      "  infodir                  /home/kx/info\n",
      "  mandir                   /home/kx/man\n",
      "  BUILT_WITH               GCC GXX INSTALL GNULD LDS LIBDL PLUGINS HDRHISTOGRAM SYSLOG SNAPPY SOCKEM CRC32C_HW\n",
      "Generated config.cache\n",
      "\n",
      "Now type 'make' to build\n"
     ]
    }
   ],
   "source": [
    "!./configure --prefix=$HOME --disable-sasl --disable-lz4 --disable-ssl --mbits=64"
   ]
  },
  {
   "cell_type": "code",
   "execution_count": 16,
   "metadata": {},
   "outputs": [
    {
     "name": "stdout",
     "output_type": "stream",
     "text": [
      "make[1]: Entering directory '/home/kx/mb/librdkafka/src'\n",
      "gcc -MD -MP -m64 -g -O2 -fPIC -Wall -Wsign-compare -Wfloat-equal -Wpointer-arith -Wcast-align -DLIBRDKAFKA_GIT_VERSION=\"\\\"v1.6.0-PRE3-1-g274f0a\\\"\"  -c rdkafka.c -o rdkafka.o\n",
      "gcc -MD -MP -m64 -g -O2 -fPIC -Wall -Wsign-compare -Wfloat-equal -Wpointer-arith -Wcast-align -DLIBRDKAFKA_GIT_VERSION=\"\\\"v1.6.0-PRE3-1-g274f0a\\\"\"  -c rdkafka_broker.c -o rdkafka_broker.o\n",
      "gcc -MD -MP -m64 -g -O2 -fPIC -Wall -Wsign-compare -Wfloat-equal -Wpointer-arith -Wcast-align -DLIBRDKAFKA_GIT_VERSION=\"\\\"v1.6.0-PRE3-1-g274f0a\\\"\"  -c rdkafka_msg.c -o rdkafka_msg.o\n",
      "gcc -MD -MP -m64 -g -O2 -fPIC -Wall -Wsign-compare -Wfloat-equal -Wpointer-arith -Wcast-align -DLIBRDKAFKA_GIT_VERSION=\"\\\"v1.6.0-PRE3-1-g274f0a\\\"\"  -c rdkafka_topic.c -o rdkafka_topic.o\n",
      "gcc -MD -MP -m64 -g -O2 -fPIC -Wall -Wsign-compare -Wfloat-equal -Wpointer-arith -Wcast-align -DLIBRDKAFKA_GIT_VERSION=\"\\\"v1.6.0-PRE3-1-g274f0a\\\"\"  -c rdkafka_conf.c -o rdkafka_conf.o\n",
      "gcc -MD -MP -m64 -g -O2 -fPIC -Wall -Wsign-compare -Wfloat-equal -Wpointer-arith -Wcast-align -DLIBRDKAFKA_GIT_VERSION=\"\\\"v1.6.0-PRE3-1-g274f0a\\\"\"  -c rdkafka_timer.c -o rdkafka_timer.o\n",
      "gcc -MD -MP -m64 -g -O2 -fPIC -Wall -Wsign-compare -Wfloat-equal -Wpointer-arith -Wcast-align -DLIBRDKAFKA_GIT_VERSION=\"\\\"v1.6.0-PRE3-1-g274f0a\\\"\"  -c rdkafka_offset.c -o rdkafka_offset.o\n",
      "gcc -MD -MP -m64 -g -O2 -fPIC -Wall -Wsign-compare -Wfloat-equal -Wpointer-arith -Wcast-align -DLIBRDKAFKA_GIT_VERSION=\"\\\"v1.6.0-PRE3-1-g274f0a\\\"\"  -c rdkafka_transport.c -o rdkafka_transport.o\n",
      "gcc -MD -MP -m64 -g -O2 -fPIC -Wall -Wsign-compare -Wfloat-equal -Wpointer-arith -Wcast-align -DLIBRDKAFKA_GIT_VERSION=\"\\\"v1.6.0-PRE3-1-g274f0a\\\"\"  -c rdkafka_buf.c -o rdkafka_buf.o\n",
      "gcc -MD -MP -m64 -g -O2 -fPIC -Wall -Wsign-compare -Wfloat-equal -Wpointer-arith -Wcast-align -DLIBRDKAFKA_GIT_VERSION=\"\\\"v1.6.0-PRE3-1-g274f0a\\\"\"  -c rdkafka_queue.c -o rdkafka_queue.o\n",
      "gcc -MD -MP -m64 -g -O2 -fPIC -Wall -Wsign-compare -Wfloat-equal -Wpointer-arith -Wcast-align -DLIBRDKAFKA_GIT_VERSION=\"\\\"v1.6.0-PRE3-1-g274f0a\\\"\"  -c rdkafka_op.c -o rdkafka_op.o\n",
      "gcc -MD -MP -m64 -g -O2 -fPIC -Wall -Wsign-compare -Wfloat-equal -Wpointer-arith -Wcast-align -DLIBRDKAFKA_GIT_VERSION=\"\\\"v1.6.0-PRE3-1-g274f0a\\\"\"  -c rdkafka_request.c -o rdkafka_request.o\n",
      "gcc -MD -MP -m64 -g -O2 -fPIC -Wall -Wsign-compare -Wfloat-equal -Wpointer-arith -Wcast-align -DLIBRDKAFKA_GIT_VERSION=\"\\\"v1.6.0-PRE3-1-g274f0a\\\"\"  -c rdkafka_cgrp.c -o rdkafka_cgrp.o\n",
      "gcc -MD -MP -m64 -g -O2 -fPIC -Wall -Wsign-compare -Wfloat-equal -Wpointer-arith -Wcast-align -DLIBRDKAFKA_GIT_VERSION=\"\\\"v1.6.0-PRE3-1-g274f0a\\\"\"  -c rdkafka_pattern.c -o rdkafka_pattern.o\n",
      "gcc -MD -MP -m64 -g -O2 -fPIC -Wall -Wsign-compare -Wfloat-equal -Wpointer-arith -Wcast-align -DLIBRDKAFKA_GIT_VERSION=\"\\\"v1.6.0-PRE3-1-g274f0a\\\"\"  -c rdkafka_partition.c -o rdkafka_partition.o\n",
      "gcc -MD -MP -m64 -g -O2 -fPIC -Wall -Wsign-compare -Wfloat-equal -Wpointer-arith -Wcast-align -DLIBRDKAFKA_GIT_VERSION=\"\\\"v1.6.0-PRE3-1-g274f0a\\\"\"  -c rdkafka_subscription.c -o rdkafka_subscription.o\n",
      "gcc -MD -MP -m64 -g -O2 -fPIC -Wall -Wsign-compare -Wfloat-equal -Wpointer-arith -Wcast-align -DLIBRDKAFKA_GIT_VERSION=\"\\\"v1.6.0-PRE3-1-g274f0a\\\"\"  -c rdkafka_assignment.c -o rdkafka_assignment.o\n",
      "gcc -MD -MP -m64 -g -O2 -fPIC -Wall -Wsign-compare -Wfloat-equal -Wpointer-arith -Wcast-align -DLIBRDKAFKA_GIT_VERSION=\"\\\"v1.6.0-PRE3-1-g274f0a\\\"\"  -c rdkafka_assignor.c -o rdkafka_assignor.o\n",
      "gcc -MD -MP -m64 -g -O2 -fPIC -Wall -Wsign-compare -Wfloat-equal -Wpointer-arith -Wcast-align -DLIBRDKAFKA_GIT_VERSION=\"\\\"v1.6.0-PRE3-1-g274f0a\\\"\"  -c rdkafka_range_assignor.c -o rdkafka_range_assignor.o\n",
      "gcc -MD -MP -m64 -g -O2 -fPIC -Wall -Wsign-compare -Wfloat-equal -Wpointer-arith -Wcast-align -DLIBRDKAFKA_GIT_VERSION=\"\\\"v1.6.0-PRE3-1-g274f0a\\\"\"  -c rdkafka_roundrobin_assignor.c -o rdkafka_roundrobin_assignor.o\n",
      "gcc -MD -MP -m64 -g -O2 -fPIC -Wall -Wsign-compare -Wfloat-equal -Wpointer-arith -Wcast-align -DLIBRDKAFKA_GIT_VERSION=\"\\\"v1.6.0-PRE3-1-g274f0a\\\"\"  -c rdkafka_sticky_assignor.c -o rdkafka_sticky_assignor.o\n",
      "gcc -MD -MP -m64 -g -O2 -fPIC -Wall -Wsign-compare -Wfloat-equal -Wpointer-arith -Wcast-align -DLIBRDKAFKA_GIT_VERSION=\"\\\"v1.6.0-PRE3-1-g274f0a\\\"\"  -c rdkafka_feature.c -o rdkafka_feature.o\n",
      "gcc -MD -MP -m64 -g -O2 -fPIC -Wall -Wsign-compare -Wfloat-equal -Wpointer-arith -Wcast-align -DLIBRDKAFKA_GIT_VERSION=\"\\\"v1.6.0-PRE3-1-g274f0a\\\"\"  -c rdcrc32.c -o rdcrc32.o\n",
      "gcc -MD -MP -m64 -g -O2 -fPIC -Wall -Wsign-compare -Wfloat-equal -Wpointer-arith -Wcast-align -DLIBRDKAFKA_GIT_VERSION=\"\\\"v1.6.0-PRE3-1-g274f0a\\\"\"  -c crc32c.c -o crc32c.o\n",
      "gcc -MD -MP -m64 -g -O2 -fPIC -Wall -Wsign-compare -Wfloat-equal -Wpointer-arith -Wcast-align -DLIBRDKAFKA_GIT_VERSION=\"\\\"v1.6.0-PRE3-1-g274f0a\\\"\"  -c rdmurmur2.c -o rdmurmur2.o\n",
      "gcc -MD -MP -m64 -g -O2 -fPIC -Wall -Wsign-compare -Wfloat-equal -Wpointer-arith -Wcast-align -DLIBRDKAFKA_GIT_VERSION=\"\\\"v1.6.0-PRE3-1-g274f0a\\\"\"  -c rdfnv1a.c -o rdfnv1a.o\n",
      "gcc -MD -MP -m64 -g -O2 -fPIC -Wall -Wsign-compare -Wfloat-equal -Wpointer-arith -Wcast-align -DLIBRDKAFKA_GIT_VERSION=\"\\\"v1.6.0-PRE3-1-g274f0a\\\"\"  -c rdaddr.c -o rdaddr.o\n",
      "gcc -MD -MP -m64 -g -O2 -fPIC -Wall -Wsign-compare -Wfloat-equal -Wpointer-arith -Wcast-align -DLIBRDKAFKA_GIT_VERSION=\"\\\"v1.6.0-PRE3-1-g274f0a\\\"\"  -c rdrand.c -o rdrand.o\n",
      "gcc -MD -MP -m64 -g -O2 -fPIC -Wall -Wsign-compare -Wfloat-equal -Wpointer-arith -Wcast-align -DLIBRDKAFKA_GIT_VERSION=\"\\\"v1.6.0-PRE3-1-g274f0a\\\"\"  -c rdlist.c -o rdlist.o\n",
      "gcc -MD -MP -m64 -g -O2 -fPIC -Wall -Wsign-compare -Wfloat-equal -Wpointer-arith -Wcast-align -DLIBRDKAFKA_GIT_VERSION=\"\\\"v1.6.0-PRE3-1-g274f0a\\\"\"  -c tinycthread.c -o tinycthread.o\n",
      "gcc -MD -MP -m64 -g -O2 -fPIC -Wall -Wsign-compare -Wfloat-equal -Wpointer-arith -Wcast-align -DLIBRDKAFKA_GIT_VERSION=\"\\\"v1.6.0-PRE3-1-g274f0a\\\"\"  -c tinycthread_extra.c -o tinycthread_extra.o\n",
      "gcc -MD -MP -m64 -g -O2 -fPIC -Wall -Wsign-compare -Wfloat-equal -Wpointer-arith -Wcast-align -DLIBRDKAFKA_GIT_VERSION=\"\\\"v1.6.0-PRE3-1-g274f0a\\\"\"  -c rdlog.c -o rdlog.o\n",
      "gcc -MD -MP -m64 -g -O2 -fPIC -Wall -Wsign-compare -Wfloat-equal -Wpointer-arith -Wcast-align -DLIBRDKAFKA_GIT_VERSION=\"\\\"v1.6.0-PRE3-1-g274f0a\\\"\"  -c rdstring.c -o rdstring.o\n",
      "gcc -MD -MP -m64 -g -O2 -fPIC -Wall -Wsign-compare -Wfloat-equal -Wpointer-arith -Wcast-align -DLIBRDKAFKA_GIT_VERSION=\"\\\"v1.6.0-PRE3-1-g274f0a\\\"\"  -c rdkafka_event.c -o rdkafka_event.o\n",
      "gcc -MD -MP -m64 -g -O2 -fPIC -Wall -Wsign-compare -Wfloat-equal -Wpointer-arith -Wcast-align -DLIBRDKAFKA_GIT_VERSION=\"\\\"v1.6.0-PRE3-1-g274f0a\\\"\"  -c rdkafka_metadata.c -o rdkafka_metadata.o\n",
      "gcc -MD -MP -m64 -g -O2 -fPIC -Wall -Wsign-compare -Wfloat-equal -Wpointer-arith -Wcast-align -DLIBRDKAFKA_GIT_VERSION=\"\\\"v1.6.0-PRE3-1-g274f0a\\\"\"  -c rdregex.c -o rdregex.o\n",
      "gcc -MD -MP -m64 -g -O2 -fPIC -Wall -Wsign-compare -Wfloat-equal -Wpointer-arith -Wcast-align -DLIBRDKAFKA_GIT_VERSION=\"\\\"v1.6.0-PRE3-1-g274f0a\\\"\"  -c rdports.c -o rdports.o\n",
      "gcc -MD -MP -m64 -g -O2 -fPIC -Wall -Wsign-compare -Wfloat-equal -Wpointer-arith -Wcast-align -DLIBRDKAFKA_GIT_VERSION=\"\\\"v1.6.0-PRE3-1-g274f0a\\\"\"  -c rdkafka_metadata_cache.c -o rdkafka_metadata_cache.o\n",
      "gcc -MD -MP -m64 -g -O2 -fPIC -Wall -Wsign-compare -Wfloat-equal -Wpointer-arith -Wcast-align -DLIBRDKAFKA_GIT_VERSION=\"\\\"v1.6.0-PRE3-1-g274f0a\\\"\"  -c rdavl.c -o rdavl.o\n",
      "gcc -MD -MP -m64 -g -O2 -fPIC -Wall -Wsign-compare -Wfloat-equal -Wpointer-arith -Wcast-align -DLIBRDKAFKA_GIT_VERSION=\"\\\"v1.6.0-PRE3-1-g274f0a\\\"\"  -c rdkafka_sasl.c -o rdkafka_sasl.o\n",
      "gcc -MD -MP -m64 -g -O2 -fPIC -Wall -Wsign-compare -Wfloat-equal -Wpointer-arith -Wcast-align -DLIBRDKAFKA_GIT_VERSION=\"\\\"v1.6.0-PRE3-1-g274f0a\\\"\"  -c rdkafka_sasl_plain.c -o rdkafka_sasl_plain.o\n",
      "gcc -MD -MP -m64 -g -O2 -fPIC -Wall -Wsign-compare -Wfloat-equal -Wpointer-arith -Wcast-align -DLIBRDKAFKA_GIT_VERSION=\"\\\"v1.6.0-PRE3-1-g274f0a\\\"\"  -c rdkafka_interceptor.c -o rdkafka_interceptor.o\n",
      "gcc -MD -MP -m64 -g -O2 -fPIC -Wall -Wsign-compare -Wfloat-equal -Wpointer-arith -Wcast-align -DLIBRDKAFKA_GIT_VERSION=\"\\\"v1.6.0-PRE3-1-g274f0a\\\"\"  -c rdkafka_msgset_writer.c -o rdkafka_msgset_writer.o\n",
      "gcc -MD -MP -m64 -g -O2 -fPIC -Wall -Wsign-compare -Wfloat-equal -Wpointer-arith -Wcast-align -DLIBRDKAFKA_GIT_VERSION=\"\\\"v1.6.0-PRE3-1-g274f0a\\\"\"  -c rdkafka_msgset_reader.c -o rdkafka_msgset_reader.o\n"
     ]
    },
    {
     "name": "stdout",
     "output_type": "stream",
     "text": [
      "gcc -MD -MP -m64 -g -O2 -fPIC -Wall -Wsign-compare -Wfloat-equal -Wpointer-arith -Wcast-align -DLIBRDKAFKA_GIT_VERSION=\"\\\"v1.6.0-PRE3-1-g274f0a\\\"\"  -c rdkafka_header.c -o rdkafka_header.o\n",
      "gcc -MD -MP -m64 -g -O2 -fPIC -Wall -Wsign-compare -Wfloat-equal -Wpointer-arith -Wcast-align -DLIBRDKAFKA_GIT_VERSION=\"\\\"v1.6.0-PRE3-1-g274f0a\\\"\"  -c rdkafka_admin.c -o rdkafka_admin.o\n",
      "gcc -MD -MP -m64 -g -O2 -fPIC -Wall -Wsign-compare -Wfloat-equal -Wpointer-arith -Wcast-align -DLIBRDKAFKA_GIT_VERSION=\"\\\"v1.6.0-PRE3-1-g274f0a\\\"\"  -c rdkafka_aux.c -o rdkafka_aux.o\n",
      "gcc -MD -MP -m64 -g -O2 -fPIC -Wall -Wsign-compare -Wfloat-equal -Wpointer-arith -Wcast-align -DLIBRDKAFKA_GIT_VERSION=\"\\\"v1.6.0-PRE3-1-g274f0a\\\"\"  -c rdkafka_background.c -o rdkafka_background.o\n",
      "gcc -MD -MP -m64 -g -O2 -fPIC -Wall -Wsign-compare -Wfloat-equal -Wpointer-arith -Wcast-align -DLIBRDKAFKA_GIT_VERSION=\"\\\"v1.6.0-PRE3-1-g274f0a\\\"\"  -c rdkafka_idempotence.c -o rdkafka_idempotence.o\n",
      "gcc -MD -MP -m64 -g -O2 -fPIC -Wall -Wsign-compare -Wfloat-equal -Wpointer-arith -Wcast-align -DLIBRDKAFKA_GIT_VERSION=\"\\\"v1.6.0-PRE3-1-g274f0a\\\"\"  -c rdkafka_cert.c -o rdkafka_cert.o\n",
      "gcc -MD -MP -m64 -g -O2 -fPIC -Wall -Wsign-compare -Wfloat-equal -Wpointer-arith -Wcast-align -DLIBRDKAFKA_GIT_VERSION=\"\\\"v1.6.0-PRE3-1-g274f0a\\\"\"  -c rdkafka_txnmgr.c -o rdkafka_txnmgr.o\n",
      "gcc -MD -MP -m64 -g -O2 -fPIC -Wall -Wsign-compare -Wfloat-equal -Wpointer-arith -Wcast-align -DLIBRDKAFKA_GIT_VERSION=\"\\\"v1.6.0-PRE3-1-g274f0a\\\"\"  -c rdkafka_coord.c -o rdkafka_coord.o\n",
      "gcc -MD -MP -m64 -g -O2 -fPIC -Wall -Wsign-compare -Wfloat-equal -Wpointer-arith -Wcast-align -DLIBRDKAFKA_GIT_VERSION=\"\\\"v1.6.0-PRE3-1-g274f0a\\\"\"  -c rdvarint.c -o rdvarint.o\n",
      "gcc -MD -MP -m64 -g -O2 -fPIC -Wall -Wsign-compare -Wfloat-equal -Wpointer-arith -Wcast-align -DLIBRDKAFKA_GIT_VERSION=\"\\\"v1.6.0-PRE3-1-g274f0a\\\"\"  -c rdbuf.c -o rdbuf.o\n",
      "gcc -MD -MP -m64 -g -O2 -fPIC -Wall -Wsign-compare -Wfloat-equal -Wpointer-arith -Wcast-align -DLIBRDKAFKA_GIT_VERSION=\"\\\"v1.6.0-PRE3-1-g274f0a\\\"\"  -c rdmap.c -o rdmap.o\n",
      "gcc -MD -MP -m64 -g -O2 -fPIC -Wall -Wsign-compare -Wfloat-equal -Wpointer-arith -Wcast-align -DLIBRDKAFKA_GIT_VERSION=\"\\\"v1.6.0-PRE3-1-g274f0a\\\"\"  -c rdunittest.c -o rdunittest.o\n",
      "gcc -MD -MP -m64 -g -O2 -fPIC -Wall -Wsign-compare -Wfloat-equal -Wpointer-arith -Wcast-align -DLIBRDKAFKA_GIT_VERSION=\"\\\"v1.6.0-PRE3-1-g274f0a\\\"\"  -c rdkafka_mock.c -o rdkafka_mock.o\n",
      "gcc -MD -MP -m64 -g -O2 -fPIC -Wall -Wsign-compare -Wfloat-equal -Wpointer-arith -Wcast-align -DLIBRDKAFKA_GIT_VERSION=\"\\\"v1.6.0-PRE3-1-g274f0a\\\"\"  -c rdkafka_mock_handlers.c -o rdkafka_mock_handlers.o\n",
      "gcc -MD -MP -m64 -g -O2 -fPIC -Wall -Wsign-compare -Wfloat-equal -Wpointer-arith -Wcast-align -DLIBRDKAFKA_GIT_VERSION=\"\\\"v1.6.0-PRE3-1-g274f0a\\\"\"  -c rdkafka_mock_cgrp.c -o rdkafka_mock_cgrp.o\n",
      "gcc -MD -MP -m64 -g -O2 -fPIC -Wall -Wsign-compare -Wfloat-equal -Wpointer-arith -Wcast-align -DLIBRDKAFKA_GIT_VERSION=\"\\\"v1.6.0-PRE3-1-g274f0a\\\"\"  -c rdkafka_error.c -o rdkafka_error.o\n",
      "gcc -MD -MP -m64 -g -O2 -fPIC -Wall -Wsign-compare -Wfloat-equal -Wpointer-arith -Wcast-align -DLIBRDKAFKA_GIT_VERSION=\"\\\"v1.6.0-PRE3-1-g274f0a\\\"\"  -c snappy.c -o snappy.o\n",
      "gcc -MD -MP -m64 -g -O2 -fPIC -Wall -Wsign-compare -Wfloat-equal -Wpointer-arith -Wcast-align -DLIBRDKAFKA_GIT_VERSION=\"\\\"v1.6.0-PRE3-1-g274f0a\\\"\"  -c rdhdrhistogram.c -o rdhdrhistogram.o\n",
      "gcc -MD -MP -m64 -g -O2 -fPIC -Wall -Wsign-compare -Wfloat-equal -Wpointer-arith -Wcast-align -DLIBRDKAFKA_GIT_VERSION=\"\\\"v1.6.0-PRE3-1-g274f0a\\\"\"  -c rdkafka_lz4.c -o rdkafka_lz4.o\n",
      "gcc -MD -MP -m64 -g -O2 -fPIC -Wall -Wsign-compare -Wfloat-equal -Wpointer-arith -Wcast-align -DLIBRDKAFKA_GIT_VERSION=\"\\\"v1.6.0-PRE3-1-g274f0a\\\"\"  -O3 -c rdxxhash.c -o rdxxhash.o\n",
      "gcc -MD -MP -m64 -g -O2 -fPIC -Wall -Wsign-compare -Wfloat-equal -Wpointer-arith -Wcast-align -DLIBRDKAFKA_GIT_VERSION=\"\\\"v1.6.0-PRE3-1-g274f0a\\\"\"  -O3 -c lz4.c -o lz4.o\n",
      "gcc -MD -MP -m64 -g -O2 -fPIC -Wall -Wsign-compare -Wfloat-equal -Wpointer-arith -Wcast-align -DLIBRDKAFKA_GIT_VERSION=\"\\\"v1.6.0-PRE3-1-g274f0a\\\"\"  -O3 -c lz4frame.c -o lz4frame.o\n",
      "gcc -MD -MP -m64 -g -O2 -fPIC -Wall -Wsign-compare -Wfloat-equal -Wpointer-arith -Wcast-align -DLIBRDKAFKA_GIT_VERSION=\"\\\"v1.6.0-PRE3-1-g274f0a\\\"\"  -O3 -c lz4hc.c -o lz4hc.o\n",
      "gcc -MD -MP -m64 -g -O2 -fPIC -Wall -Wsign-compare -Wfloat-equal -Wpointer-arith -Wcast-align -DLIBRDKAFKA_GIT_VERSION=\"\\\"v1.6.0-PRE3-1-g274f0a\\\"\"  -c rddl.c -o rddl.o\n",
      "gcc -MD -MP -m64 -g -O2 -fPIC -Wall -Wsign-compare -Wfloat-equal -Wpointer-arith -Wcast-align -DLIBRDKAFKA_GIT_VERSION=\"\\\"v1.6.0-PRE3-1-g274f0a\\\"\"  -c rdkafka_plugin.c -o rdkafka_plugin.o\n",
      "\u001b[33mGenerating linker script librdkafka.lds from rdkafka.h rdkafka_mock.h\u001b[m\n",
      "\u001b[33mCreating shared library librdkafka.so.1\u001b[m\n",
      "gcc -m64 -shared -Wl,-soname,librdkafka.so.1 -Wl,--version-script=librdkafka.lds rdkafka.o rdkafka_broker.o rdkafka_msg.o rdkafka_topic.o rdkafka_conf.o rdkafka_timer.o rdkafka_offset.o rdkafka_transport.o rdkafka_buf.o rdkafka_queue.o rdkafka_op.o rdkafka_request.o rdkafka_cgrp.o rdkafka_pattern.o rdkafka_partition.o rdkafka_subscription.o rdkafka_assignment.o rdkafka_assignor.o rdkafka_range_assignor.o rdkafka_roundrobin_assignor.o rdkafka_sticky_assignor.o rdkafka_feature.o rdcrc32.o crc32c.o rdmurmur2.o rdfnv1a.o rdaddr.o rdrand.o rdlist.o tinycthread.o tinycthread_extra.o rdlog.o rdstring.o rdkafka_event.o rdkafka_metadata.o rdregex.o rdports.o rdkafka_metadata_cache.o rdavl.o rdkafka_sasl.o rdkafka_sasl_plain.o rdkafka_interceptor.o rdkafka_msgset_writer.o rdkafka_msgset_reader.o rdkafka_header.o rdkafka_admin.o rdkafka_aux.o rdkafka_background.o rdkafka_idempotence.o rdkafka_cert.o rdkafka_txnmgr.o rdkafka_coord.o rdvarint.o rdbuf.o rdmap.o rdunittest.o rdkafka_mock.o rdkafka_mock_handlers.o rdkafka_mock_cgrp.o rdkafka_error.o snappy.o rdhdrhistogram.o rdkafka_lz4.o rdxxhash.o lz4.o lz4frame.o lz4hc.o rddl.o rdkafka_plugin.o -o librdkafka.so.1 -lm -ldl -lpthread -lrt\n",
      "\u001b[33mCreating static library librdkafka.a\u001b[m\n",
      "ar rcs librdkafka.a rdkafka.o rdkafka_broker.o rdkafka_msg.o rdkafka_topic.o rdkafka_conf.o rdkafka_timer.o rdkafka_offset.o rdkafka_transport.o rdkafka_buf.o rdkafka_queue.o rdkafka_op.o rdkafka_request.o rdkafka_cgrp.o rdkafka_pattern.o rdkafka_partition.o rdkafka_subscription.o rdkafka_assignment.o rdkafka_assignor.o rdkafka_range_assignor.o rdkafka_roundrobin_assignor.o rdkafka_sticky_assignor.o rdkafka_feature.o rdcrc32.o crc32c.o rdmurmur2.o rdfnv1a.o rdaddr.o rdrand.o rdlist.o tinycthread.o tinycthread_extra.o rdlog.o rdstring.o rdkafka_event.o rdkafka_metadata.o rdregex.o rdports.o rdkafka_metadata_cache.o rdavl.o rdkafka_sasl.o rdkafka_sasl_plain.o rdkafka_interceptor.o rdkafka_msgset_writer.o rdkafka_msgset_reader.o rdkafka_header.o rdkafka_admin.o rdkafka_aux.o rdkafka_background.o rdkafka_idempotence.o rdkafka_cert.o rdkafka_txnmgr.o rdkafka_coord.o rdvarint.o rdbuf.o rdmap.o rdunittest.o rdkafka_mock.o rdkafka_mock_handlers.o rdkafka_mock_cgrp.o rdkafka_error.o snappy.o rdhdrhistogram.o rdkafka_lz4.o rdxxhash.o lz4.o lz4frame.o lz4hc.o rddl.o rdkafka_plugin.o\n",
      "\u001b[33mCreating librdkafka.so symlink\u001b[m\n",
      "rm -f \"librdkafka.so\" && ln -s \"librdkafka.so.1\" \"librdkafka.so\"\n",
      "\u001b[33mGenerating pkg-config file rdkafka.pc\u001b[m\n",
      "\u001b[33mGenerating pkg-config file rdkafka-static.pc\u001b[m\n",
      "\u001b[33mChecking librdkafka integrity\u001b[m\n",
      "librdkafka.so.1                \u001b[32mOK\u001b[m\n",
      "librdkafka.a                   \u001b[32mOK\u001b[m\n",
      "Symbol visibility              \u001b[32mOK\u001b[m\n",
      "make[1]: Leaving directory '/home/kx/mb/librdkafka/src'\n",
      "make[1]: Entering directory '/home/kx/mb/librdkafka/src-cpp'\n",
      "g++ -MD -MP -m64 -g -O2 -fPIC -Wall -Wsign-compare -Wfloat-equal -Wpointer-arith -Wcast-align -Wno-non-virtual-dtor -c RdKafka.cpp -o RdKafka.o\n",
      "g++ -MD -MP -m64 -g -O2 -fPIC -Wall -Wsign-compare -Wfloat-equal -Wpointer-arith -Wcast-align -Wno-non-virtual-dtor -c ConfImpl.cpp -o ConfImpl.o\n",
      "g++ -MD -MP -m64 -g -O2 -fPIC -Wall -Wsign-compare -Wfloat-equal -Wpointer-arith -Wcast-align -Wno-non-virtual-dtor -c HandleImpl.cpp -o HandleImpl.o\n",
      "g++ -MD -MP -m64 -g -O2 -fPIC -Wall -Wsign-compare -Wfloat-equal -Wpointer-arith -Wcast-align -Wno-non-virtual-dtor -c ConsumerImpl.cpp -o ConsumerImpl.o\n",
      "g++ -MD -MP -m64 -g -O2 -fPIC -Wall -Wsign-compare -Wfloat-equal -Wpointer-arith -Wcast-align -Wno-non-virtual-dtor -c ProducerImpl.cpp -o ProducerImpl.o\n"
     ]
    },
    {
     "name": "stdout",
     "output_type": "stream",
     "text": [
      "g++ -MD -MP -m64 -g -O2 -fPIC -Wall -Wsign-compare -Wfloat-equal -Wpointer-arith -Wcast-align -Wno-non-virtual-dtor -c KafkaConsumerImpl.cpp -o KafkaConsumerImpl.o\n",
      "g++ -MD -MP -m64 -g -O2 -fPIC -Wall -Wsign-compare -Wfloat-equal -Wpointer-arith -Wcast-align -Wno-non-virtual-dtor -c TopicImpl.cpp -o TopicImpl.o\n",
      "g++ -MD -MP -m64 -g -O2 -fPIC -Wall -Wsign-compare -Wfloat-equal -Wpointer-arith -Wcast-align -Wno-non-virtual-dtor -c TopicPartitionImpl.cpp -o TopicPartitionImpl.o\n",
      "g++ -MD -MP -m64 -g -O2 -fPIC -Wall -Wsign-compare -Wfloat-equal -Wpointer-arith -Wcast-align -Wno-non-virtual-dtor -c MessageImpl.cpp -o MessageImpl.o\n",
      "g++ -MD -MP -m64 -g -O2 -fPIC -Wall -Wsign-compare -Wfloat-equal -Wpointer-arith -Wcast-align -Wno-non-virtual-dtor -c HeadersImpl.cpp -o HeadersImpl.o\n",
      "g++ -MD -MP -m64 -g -O2 -fPIC -Wall -Wsign-compare -Wfloat-equal -Wpointer-arith -Wcast-align -Wno-non-virtual-dtor -c QueueImpl.cpp -o QueueImpl.o\n",
      "g++ -MD -MP -m64 -g -O2 -fPIC -Wall -Wsign-compare -Wfloat-equal -Wpointer-arith -Wcast-align -Wno-non-virtual-dtor -c MetadataImpl.cpp -o MetadataImpl.o\n",
      "\u001b[33mCreating shared library librdkafka++.so.1\u001b[m\n",
      "g++ -m64 -shared -Wl,-soname,librdkafka++.so.1 RdKafka.o ConfImpl.o HandleImpl.o ConsumerImpl.o ProducerImpl.o KafkaConsumerImpl.o TopicImpl.o TopicPartitionImpl.o MessageImpl.o HeadersImpl.o QueueImpl.o MetadataImpl.o -o librdkafka++.so.1 -L../src -lrdkafka\n",
      "\u001b[33mCreating static library librdkafka++.a\u001b[m\n",
      "ar rcs librdkafka++.a RdKafka.o ConfImpl.o HandleImpl.o ConsumerImpl.o ProducerImpl.o KafkaConsumerImpl.o TopicImpl.o TopicPartitionImpl.o MessageImpl.o HeadersImpl.o QueueImpl.o MetadataImpl.o\n",
      "\u001b[33mCreating librdkafka++.so symlink\u001b[m\n",
      "rm -f \"librdkafka++.so\" && ln -s \"librdkafka++.so.1\" \"librdkafka++.so\"\n",
      "\u001b[33mGenerating pkg-config file rdkafka++.pc\u001b[m\n",
      "\u001b[33mGenerating pkg-config file rdkafka++-static.pc\u001b[m\n",
      "\u001b[33mChecking librdkafka++ integrity\u001b[m\n",
      "librdkafka++.so.1              \u001b[32mOK\u001b[m\n",
      "librdkafka++.a                 \u001b[32mOK\u001b[m\n",
      "make[1]: Leaving directory '/home/kx/mb/librdkafka/src-cpp'\n",
      "make -C examples\n",
      "make[1]: Entering directory '/home/kx/mb/librdkafka/examples'\n",
      "gcc -m64 -g -O2 -fPIC -Wall -Wsign-compare -Wfloat-equal -Wpointer-arith -Wcast-align -I../src rdkafka_example.c -o rdkafka_example -m64 \\\n",
      "\t../src/librdkafka.a -lm -ldl -lpthread -lrt\n",
      "# rdkafka_example is ready\n",
      "#\n",
      "# Run producer (write messages on stdin)\n",
      "./rdkafka_example -P -t <topic> -p <partition>\n",
      "\n",
      "# or consumer\n",
      "./rdkafka_example -C -t <topic> -p <partition>\n",
      "\n",
      "#\n",
      "# More usage options:\n",
      "./rdkafka_example -h\n",
      "gcc -m64 -g -O2 -fPIC -Wall -Wsign-compare -Wfloat-equal -Wpointer-arith -Wcast-align -I../src rdkafka_performance.c -o rdkafka_performance -m64 \\\n",
      "\t../src/librdkafka.a -lm -ldl -lpthread -lrt\n",
      "# rdkafka_performance is ready\n",
      "#\n",
      "# Run producer\n",
      "./rdkafka_performance -P -t <topic> -p <partition> -s <msgsize>\n",
      "\n",
      "# or consumer\n",
      "./rdkafka_performance -C -t <topic> -p <partition>\n",
      "\n",
      "#\n",
      "# More usage options:\n",
      "./rdkafka_performance -h\n",
      "g++ -m64 -g -O2 -fPIC -Wall -Wsign-compare -Wfloat-equal -Wpointer-arith -Wcast-align -Wno-non-virtual-dtor -I../src-cpp rdkafka_example.cpp -o rdkafka_example_cpp -m64 \\\n",
      "\t../src-cpp/librdkafka++.a ../src/librdkafka.a -lm -ldl -lpthread -lrt\n",
      "gcc -m64 -g -O2 -fPIC -Wall -Wsign-compare -Wfloat-equal -Wpointer-arith -Wcast-align -I../src rdkafka_complex_consumer_example.c -o rdkafka_complex_consumer_example -m64 \\\n",
      "\t../src/librdkafka.a -lm -ldl -lpthread -lrt\n",
      "# rdkafka_complex_consumer_example is ready\n",
      "#\n",
      "./rdkafka_complex_consumer_example <topic[:part]> <topic2[:part]> ..\n",
      "\n",
      "#\n",
      "# More usage options:\n",
      "./rdkafka_complex_consumer_example -h\n",
      "g++ -m64 -g -O2 -fPIC -Wall -Wsign-compare -Wfloat-equal -Wpointer-arith -Wcast-align -Wno-non-virtual-dtor -I../src-cpp rdkafka_complex_consumer_example.cpp -o rdkafka_complex_consumer_example_cpp -m64 \\\n",
      "\t../src-cpp/librdkafka++.a ../src/librdkafka.a -lm -ldl -lpthread -lrt\n",
      "g++ -m64 -g -O2 -fPIC -Wall -Wsign-compare -Wfloat-equal -Wpointer-arith -Wcast-align -Wno-non-virtual-dtor -I../src-cpp kafkatest_verifiable_client.cpp -o kafkatest_verifiable_client -m64 \\\n",
      "\t../src-cpp/librdkafka++.a ../src/librdkafka.a -lm -ldl -lpthread -lrt\n",
      "gcc -m64 -g -O2 -fPIC -Wall -Wsign-compare -Wfloat-equal -Wpointer-arith -Wcast-align -I../src producer.c -o producer -m64 \\\n",
      "\t../src/librdkafka.a -lm -ldl -lpthread -lrt\n",
      "gcc -m64 -g -O2 -fPIC -Wall -Wsign-compare -Wfloat-equal -Wpointer-arith -Wcast-align -I../src consumer.c -o consumer -m64 \\\n",
      "\t../src/librdkafka.a -lm -ldl -lpthread -lrt\n",
      "gcc -m64 -g -O2 -fPIC -Wall -Wsign-compare -Wfloat-equal -Wpointer-arith -Wcast-align -I../src idempotent_producer.c -o idempotent_producer -m64 \\\n",
      "\t../src/librdkafka.a -lm -ldl -lpthread -lrt\n",
      "gcc -m64 -g -O2 -fPIC -Wall -Wsign-compare -Wfloat-equal -Wpointer-arith -Wcast-align -I../src transactions.c -o transactions -m64 \\\n",
      "\t../src/librdkafka.a -lm -ldl -lpthread -lrt\n",
      "make[1]: Leaving directory '/home/kx/mb/librdkafka/examples'\n",
      "\u001b[33mUpdating CONFIGURATION.md\u001b[m\n",
      "\u001b[33mChecking  integrity\u001b[m\n",
      "CONFIGURATION.md               \u001b[32mOK\u001b[m\n",
      "examples/rdkafka_example       \u001b[32mOK\u001b[m\n",
      "examples/rdkafka_performance   \u001b[32mOK\u001b[m\n",
      "examples/rdkafka_example_cpp   \u001b[32mOK\u001b[m\n",
      "make[1]: Entering directory '/home/kx/mb/librdkafka/src'\n",
      "\u001b[33mGenerating pkg-config file rdkafka-static.pc\u001b[m\n",
      "\u001b[33mChecking librdkafka integrity\u001b[m\n",
      "librdkafka.so.1                \u001b[32mOK\u001b[m\n",
      "librdkafka.a                   \u001b[32mOK\u001b[m\n",
      "Symbol visibility              \u001b[32mOK\u001b[m\n",
      "make[1]: Leaving directory '/home/kx/mb/librdkafka/src'\n",
      "make[1]: Entering directory '/home/kx/mb/librdkafka/src-cpp'\n",
      "\u001b[33mGenerating pkg-config file rdkafka++-static.pc\u001b[m\n",
      "\u001b[33mChecking librdkafka++ integrity\u001b[m\n",
      "librdkafka++.so.1              \u001b[32mOK\u001b[m\n",
      "librdkafka++.a                 \u001b[32mOK\u001b[m\n",
      "make[1]: Leaving directory '/home/kx/mb/librdkafka/src-cpp'\n"
     ]
    }
   ],
   "source": [
    "!make"
   ]
  },
  {
   "cell_type": "code",
   "execution_count": 17,
   "metadata": {},
   "outputs": [
    {
     "name": "stdout",
     "output_type": "stream",
     "text": [
      "make[1]: Entering directory '/home/kx/mb/librdkafka/src'\n",
      "\u001b[33mInstall librdkafka to /home/kx\u001b[m\n",
      "install -d $DESTDIR/home/kx/include/librdkafka\n",
      "install -d $DESTDIR/home/kx/lib\n",
      "install rdkafka.h rdkafka_mock.h $DESTDIR/home/kx/include/librdkafka\n",
      "install librdkafka.a $DESTDIR/home/kx/lib\n",
      "[ ! -f librdkafka-static.a ] || install librdkafka-static.a $DESTDIR/home/kx/lib\n",
      "install librdkafka.so.1 $DESTDIR/home/kx/lib\n",
      "[ -f \"rdkafka.pc\" ] && ( \\\n",
      "\tinstall -d $DESTDIR/home/kx/lib/pkgconfig && \\\n",
      "\tinstall -m 0644 rdkafka.pc $DESTDIR/home/kx/lib/pkgconfig \\\n",
      ")\n",
      "[ -f \"rdkafka-static.pc\" ] && ( \\\n",
      "\tinstall -d $DESTDIR/home/kx/lib/pkgconfig && \\\n",
      "\tinstall -m 0644 rdkafka-static.pc $DESTDIR/home/kx/lib/pkgconfig \\\n",
      ")\n",
      "(cd $DESTDIR/home/kx/lib && ln -sf librdkafka.so.1 librdkafka.so)\n",
      "make[1]: Leaving directory '/home/kx/mb/librdkafka/src'\n",
      "make[1]: Entering directory '/home/kx/mb/librdkafka/src-cpp'\n",
      "\u001b[33mInstall librdkafka++ to /home/kx\u001b[m\n",
      "install -d $DESTDIR/home/kx/include/librdkafka\n",
      "install -d $DESTDIR/home/kx/lib\n",
      "install rdkafkacpp.h $DESTDIR/home/kx/include/librdkafka\n",
      "install librdkafka++.a $DESTDIR/home/kx/lib\n",
      "[ ! -f librdkafka++-static.a ] || install librdkafka++-static.a $DESTDIR/home/kx/lib\n",
      "install librdkafka++.so.1 $DESTDIR/home/kx/lib\n",
      "[ -f \"rdkafka++.pc\" ] && ( \\\n",
      "\tinstall -d $DESTDIR/home/kx/lib/pkgconfig && \\\n",
      "\tinstall -m 0644 rdkafka++.pc $DESTDIR/home/kx/lib/pkgconfig \\\n",
      ")\n",
      "[ -f \"rdkafka++-static.pc\" ] && ( \\\n",
      "\tinstall -d $DESTDIR/home/kx/lib/pkgconfig && \\\n",
      "\tinstall -m 0644 rdkafka++-static.pc $DESTDIR/home/kx/lib/pkgconfig \\\n",
      ")\n",
      "(cd $DESTDIR/home/kx/lib && ln -sf librdkafka++.so.1 librdkafka++.so)\n",
      "make[1]: Leaving directory '/home/kx/mb/librdkafka/src-cpp'\n",
      "make[1]: Entering directory '/home/kx/mb/librdkafka/src'\n",
      "\u001b[33mGenerating pkg-config file rdkafka-static.pc\u001b[m\n",
      "\u001b[33mChecking librdkafka integrity\u001b[m\n",
      "librdkafka.so.1                \u001b[32mOK\u001b[m\n",
      "librdkafka.a                   \u001b[32mOK\u001b[m\n",
      "Symbol visibility              \u001b[32mOK\u001b[m\n",
      "make[1]: Leaving directory '/home/kx/mb/librdkafka/src'\n",
      "make[1]: Entering directory '/home/kx/mb/librdkafka/src-cpp'\n",
      "\u001b[33mGenerating pkg-config file rdkafka++-static.pc\u001b[m\n",
      "\u001b[33mChecking librdkafka++ integrity\u001b[m\n",
      "librdkafka++.so.1              \u001b[32mOK\u001b[m\n",
      "librdkafka++.a                 \u001b[32mOK\u001b[m\n",
      "make[1]: Leaving directory '/home/kx/mb/librdkafka/src-cpp'\n",
      "make -C examples\n",
      "make[1]: Entering directory '/home/kx/mb/librdkafka/examples'\n",
      "make[1]: Nothing to be done for 'all'.\n",
      "make[1]: Leaving directory '/home/kx/mb/librdkafka/examples'\n",
      "\u001b[33mUpdating CONFIGURATION.md\u001b[m\n",
      "\u001b[33mInstalling documentation to /home/kx\u001b[m\n",
      "install -d $DESTDIR/home/kx/share/doc/librdkafka\n",
      "install LICENSE LICENSES.txt INTRODUCTION.md README.md CONFIGURATION.md STATISTICS.md CHANGELOG.md $DESTDIR/home/kx/share/doc/librdkafka\n"
     ]
    }
   ],
   "source": [
    "!make install"
   ]
  },
  {
   "cell_type": "code",
   "execution_count": 65,
   "metadata": {},
   "outputs": [
    {
     "name": "stdout",
     "output_type": "stream",
     "text": [
      "jupyterq.so  p.so  q\r\n"
     ]
    }
   ],
   "source": [
    "!ls $QHOME/l64"
   ]
  },
  {
   "cell_type": "code",
   "execution_count": 71,
   "metadata": {},
   "outputs": [
    {
     "name": "stdout",
     "output_type": "stream",
     "text": [
      "librdkafka++.a\t librdkafka++.so.1  librdkafka.so    pkgconfig\r\n",
      "librdkafka++.so  librdkafka.a\t    librdkafka.so.1\r\n"
     ]
    }
   ],
   "source": [
    "!ls $HOME/lib"
   ]
  },
  {
   "cell_type": "code",
   "execution_count": 70,
   "metadata": {},
   "outputs": [
    {
     "name": "stdout",
     "output_type": "stream",
     "text": [
      "CONTRIBUTING.md  Makefile   build     k.h    kfk.c  socketpair.c\r\n",
      "LICENSE\t\t README.md  examples  kafka  kfk.q\r\n",
      "rm -f libkfk.so\r\n",
      "cc kfk.c -m64 -DKXVER=3 -shared -fPIC -Wall -Wno-strict-aliasing -Wno-parentheses -Wextra -Werror -Wsign-compare \"\"/lib/librdkafka.a  -lz -lpthread -lssl -g -O2 -I\"\"/include -lrt -o libkfk.so \r\n",
      "\u001b[01m\u001b[Kcc:\u001b[m\u001b[K \u001b[01;31m\u001b[Kerror: \u001b[m\u001b[K/lib/librdkafka.a: No such file or directory\r\n",
      "Makefile:34: recipe for target 'static' failed\r\n",
      "make: *** [static] Error 1\r\n"
     ]
    }
   ],
   "source": [
    "!export LD_LIBRARY_PATH=$LD_LIBRARY_PATH:$HOME/lib && cd ../ && cd kafka && ls && make clean && make static"
   ]
  },
  {
   "cell_type": "code",
   "execution_count": 49,
   "metadata": {},
   "outputs": [
    {
     "name": "stdout",
     "output_type": "stream",
     "text": [
      "make[1]: Entering directory '/home/kx/mb/librdkafka/src'\n",
      "\u001b[33mGenerating pkg-config file rdkafka-static.pc\u001b[m\n",
      "\u001b[33mChecking librdkafka integrity\u001b[m\n",
      "librdkafka.so.1                \u001b[32mOK\u001b[m\n",
      "librdkafka.a                   \u001b[32mOK\u001b[m\n",
      "Symbol visibility              \u001b[32mOK\u001b[m\n",
      "make[1]: Leaving directory '/home/kx/mb/librdkafka/src'\n",
      "make[1]: Entering directory '/home/kx/mb/librdkafka/src-cpp'\n",
      "\u001b[33mGenerating pkg-config file rdkafka++-static.pc\u001b[m\n",
      "\u001b[33mChecking librdkafka++ integrity\u001b[m\n",
      "librdkafka++.so.1              \u001b[32mOK\u001b[m\n",
      "librdkafka++.a                 \u001b[32mOK\u001b[m\n",
      "make[1]: Leaving directory '/home/kx/mb/librdkafka/src-cpp'\n",
      "make -C examples\n",
      "make[1]: Entering directory '/home/kx/mb/librdkafka/examples'\n",
      "make[1]: Nothing to be done for 'all'.\n",
      "make[1]: Leaving directory '/home/kx/mb/librdkafka/examples'\n",
      "\u001b[33mUpdating CONFIGURATION.md\u001b[m\n",
      "\u001b[33mChecking  integrity\u001b[m\n",
      "CONFIGURATION.md               \u001b[32mOK\u001b[m\n",
      "examples/rdkafka_example       \u001b[32mOK\u001b[m\n",
      "examples/rdkafka_performance   \u001b[32mOK\u001b[m\n",
      "examples/rdkafka_example_cpp   \u001b[32mOK\u001b[m\n",
      "make[1]: Entering directory '/home/kx/mb/librdkafka/src'\n",
      "\u001b[33mGenerating pkg-config file rdkafka-static.pc\u001b[m\n",
      "\u001b[33mChecking librdkafka integrity\u001b[m\n",
      "librdkafka.so.1                \u001b[32mOK\u001b[m\n",
      "librdkafka.a                   \u001b[32mOK\u001b[m\n",
      "Symbol visibility              \u001b[32mOK\u001b[m\n",
      "make[1]: Leaving directory '/home/kx/mb/librdkafka/src'\n",
      "make[1]: Entering directory '/home/kx/mb/librdkafka/src-cpp'\n",
      "\u001b[33mGenerating pkg-config file rdkafka++-static.pc\u001b[m\n",
      "\u001b[33mChecking librdkafka++ integrity\u001b[m\n",
      "librdkafka++.so.1              \u001b[32mOK\u001b[m\n",
      "librdkafka++.a                 \u001b[32mOK\u001b[m\n",
      "make[1]: Leaving directory '/home/kx/mb/librdkafka/src-cpp'\n",
      "make[1]: Entering directory '/home/kx/mb/librdkafka/src'\n",
      "\u001b[33mInstall librdkafka to /home/kx\u001b[m\n",
      "install -d $DESTDIR/home/kx/include/librdkafka\n",
      "install -d $DESTDIR/home/kx/lib\n",
      "install rdkafka.h rdkafka_mock.h $DESTDIR/home/kx/include/librdkafka\n",
      "install librdkafka.a $DESTDIR/home/kx/lib\n",
      "[ ! -f librdkafka-static.a ] || install librdkafka-static.a $DESTDIR/home/kx/lib\n",
      "install librdkafka.so.1 $DESTDIR/home/kx/lib\n",
      "[ -f \"rdkafka.pc\" ] && ( \\\n",
      "\tinstall -d $DESTDIR/home/kx/lib/pkgconfig && \\\n",
      "\tinstall -m 0644 rdkafka.pc $DESTDIR/home/kx/lib/pkgconfig \\\n",
      ")\n",
      "[ -f \"rdkafka-static.pc\" ] && ( \\\n",
      "\tinstall -d $DESTDIR/home/kx/lib/pkgconfig && \\\n",
      "\tinstall -m 0644 rdkafka-static.pc $DESTDIR/home/kx/lib/pkgconfig \\\n",
      ")\n",
      "(cd $DESTDIR/home/kx/lib && ln -sf librdkafka.so.1 librdkafka.so)\n",
      "make[1]: Leaving directory '/home/kx/mb/librdkafka/src'\n",
      "make[1]: Entering directory '/home/kx/mb/librdkafka/src-cpp'\n",
      "\u001b[33mInstall librdkafka++ to /home/kx\u001b[m\n",
      "install -d $DESTDIR/home/kx/include/librdkafka\n",
      "install -d $DESTDIR/home/kx/lib\n",
      "install rdkafkacpp.h $DESTDIR/home/kx/include/librdkafka\n",
      "install librdkafka++.a $DESTDIR/home/kx/lib\n",
      "[ ! -f librdkafka++-static.a ] || install librdkafka++-static.a $DESTDIR/home/kx/lib\n",
      "install librdkafka++.so.1 $DESTDIR/home/kx/lib\n",
      "[ -f \"rdkafka++.pc\" ] && ( \\\n",
      "\tinstall -d $DESTDIR/home/kx/lib/pkgconfig && \\\n",
      "\tinstall -m 0644 rdkafka++.pc $DESTDIR/home/kx/lib/pkgconfig \\\n",
      ")\n",
      "[ -f \"rdkafka++-static.pc\" ] && ( \\\n",
      "\tinstall -d $DESTDIR/home/kx/lib/pkgconfig && \\\n",
      "\tinstall -m 0644 rdkafka++-static.pc $DESTDIR/home/kx/lib/pkgconfig \\\n",
      ")\n",
      "(cd $DESTDIR/home/kx/lib && ln -sf librdkafka++.so.1 librdkafka++.so)\n",
      "make[1]: Leaving directory '/home/kx/mb/librdkafka/src-cpp'\n",
      "make[1]: Entering directory '/home/kx/mb/librdkafka/src'\n",
      "\u001b[33mGenerating pkg-config file rdkafka-static.pc\u001b[m\n",
      "\u001b[33mChecking librdkafka integrity\u001b[m\n",
      "librdkafka.so.1                \u001b[32mOK\u001b[m\n",
      "librdkafka.a                   \u001b[32mOK\u001b[m\n",
      "Symbol visibility              \u001b[32mOK\u001b[m\n",
      "make[1]: Leaving directory '/home/kx/mb/librdkafka/src'\n",
      "make[1]: Entering directory '/home/kx/mb/librdkafka/src-cpp'\n",
      "\u001b[33mGenerating pkg-config file rdkafka++-static.pc\u001b[m\n",
      "\u001b[33mChecking librdkafka++ integrity\u001b[m\n",
      "librdkafka++.so.1              \u001b[32mOK\u001b[m\n",
      "librdkafka++.a                 \u001b[32mOK\u001b[m\n",
      "make[1]: Leaving directory '/home/kx/mb/librdkafka/src-cpp'\n",
      "make -C examples\n",
      "make[1]: Entering directory '/home/kx/mb/librdkafka/examples'\n",
      "make[1]: Nothing to be done for 'all'.\n",
      "make[1]: Leaving directory '/home/kx/mb/librdkafka/examples'\n",
      "\u001b[33mUpdating CONFIGURATION.md\u001b[m\n",
      "\u001b[33mInstalling documentation to /home/kx\u001b[m\n",
      "install -d $DESTDIR/home/kx/share/doc/librdkafka\n",
      "install LICENSE LICENSES.txt INTRODUCTION.md README.md CONFIGURATION.md STATISTICS.md CHANGELOG.md $DESTDIR/home/kx/share/doc/librdkafka\n"
     ]
    }
   ],
   "source": [
    "!make && make install "
   ]
  },
  {
   "cell_type": "code",
   "execution_count": 52,
   "metadata": {},
   "outputs": [
    {
     "name": "stdout",
     "output_type": "stream",
     "text": [
      "root@8453f21ca698:/home/kx/mb/librdkafka# ^C\n",
      "\n",
      "root@8453f21ca698:/home/kx/mb/librdkafka# "
     ]
    }
   ],
   "source": [
    "!su && apt-get install rg -y"
   ]
  },
  {
   "cell_type": "code",
   "execution_count": 54,
   "metadata": {},
   "outputs": [
    {
     "name": "stdout",
     "output_type": "stream",
     "text": [
      "librdkafka\r\n"
     ]
    }
   ],
   "source": [
    "!ls $HOME/include"
   ]
  },
  {
   "cell_type": "code",
   "execution_count": 12,
   "metadata": {},
   "outputs": [
    {
     "name": "stdout",
     "output_type": "stream",
     "text": [
      "Collecting package metadata (current_repodata.json): done\n",
      "Solving environment: done\n",
      "\n",
      "\n",
      "==> WARNING: A newer version of conda exists. <==\n",
      "  current version: 4.8.3\n",
      "  latest version: 4.9.2\n",
      "\n",
      "Please update conda by running\n",
      "\n",
      "    $ conda update -n base -c defaults conda\n",
      "\n",
      "\n",
      "\n",
      "## Package Plan ##\n",
      "\n",
      "  environment location: /home/kx/.conda/envs/producer\n",
      "\n",
      "\n",
      "\n",
      "Preparing transaction: done\n",
      "Verifying transaction: done\n",
      "Executing transaction: done\n",
      "#\n",
      "# To activate this environment, use\n",
      "#\n",
      "#     $ conda activate producer\n",
      "#\n",
      "# To deactivate an active environment, use\n",
      "#\n",
      "#     $ conda deactivate\n",
      "\n"
     ]
    }
   ],
   "source": [
    "!conda create -n producer -y"
   ]
  },
  {
   "cell_type": "code",
   "execution_count": 13,
   "metadata": {},
   "outputs": [
    {
     "name": "stdout",
     "output_type": "stream",
     "text": [
      "Collecting package metadata (current_repodata.json): done\n",
      "Solving environment: failed with initial frozen solve. Retrying with flexible solve.\n",
      "Solving environment: failed with repodata from current_repodata.json, will retry with next repodata source.\n",
      "Collecting package metadata (repodata.json): done\n",
      "Solving environment: done\n",
      "\n",
      "\n",
      "==> WARNING: A newer version of conda exists. <==\n",
      "  current version: 4.8.3\n",
      "  latest version: 4.9.2\n",
      "\n",
      "Please update conda by running\n",
      "\n",
      "    $ conda update -n base -c defaults conda\n",
      "\n",
      "\n",
      "\n",
      "## Package Plan ##\n",
      "\n",
      "  environment location: /home/kx/.conda/envs/producer\n",
      "\n",
      "  added / updated specs:\n",
      "    - ipykernel\n",
      "\n",
      "\n",
      "The following NEW packages will be INSTALLED:\n",
      "\n",
      "  backcall           anaconda/noarch::backcall-0.2.0-py_0\n",
      "  ca-certificates    anaconda/linux-64::ca-certificates-2020.10.14-0\n",
      "  certifi            anaconda/linux-64::certifi-2020.6.20-py38_0\n",
      "  decorator          anaconda/noarch::decorator-4.4.2-py_0\n",
      "  ipykernel          anaconda/linux-64::ipykernel-5.3.4-py38h5ca1d4c_0\n",
      "  ipython            anaconda/linux-64::ipython-7.18.1-py38h5ca1d4c_0\n",
      "  ipython_genutils   anaconda/linux-64::ipython_genutils-0.2.0-py38_0\n",
      "  jedi               anaconda/linux-64::jedi-0.17.2-py38_0\n",
      "  jupyter_client     anaconda/noarch::jupyter_client-6.1.7-py_0\n",
      "  jupyter_core       anaconda/linux-64::jupyter_core-4.6.3-py38_0\n",
      "  ld_impl_linux-64   anaconda/linux-64::ld_impl_linux-64-2.33.1-h53a641e_7\n",
      "  libedit            anaconda/linux-64::libedit-3.1.20191231-h14c3975_1\n",
      "  libffi             anaconda/linux-64::libffi-3.3-he6710b0_2\n",
      "  libgcc-ng          anaconda/linux-64::libgcc-ng-9.1.0-hdf63c60_0\n",
      "  libsodium          anaconda/linux-64::libsodium-1.0.18-h7b6447c_0\n",
      "  libstdcxx-ng       anaconda/linux-64::libstdcxx-ng-9.1.0-hdf63c60_0\n",
      "  ncurses            anaconda/linux-64::ncurses-6.2-he6710b0_1\n",
      "  openssl            anaconda/linux-64::openssl-1.1.1h-h7b6447c_0\n",
      "  parso              anaconda/noarch::parso-0.7.0-py_0\n",
      "  pexpect            anaconda/linux-64::pexpect-4.8.0-py38_0\n",
      "  pickleshare        anaconda/linux-64::pickleshare-0.7.5-py38_1000\n",
      "  pip                anaconda/linux-64::pip-20.2.4-py38_0\n",
      "  prompt-toolkit     anaconda/noarch::prompt-toolkit-3.0.8-py_0\n",
      "  ptyprocess         anaconda/linux-64::ptyprocess-0.6.0-py38_0\n",
      "  pygments           anaconda/noarch::pygments-2.7.1-py_0\n",
      "  python             anaconda/linux-64::python-3.8.5-h7579374_1\n",
      "  python-dateutil    anaconda/noarch::python-dateutil-2.8.1-py_0\n",
      "  pyzmq              anaconda/linux-64::pyzmq-19.0.2-py38he6710b0_1\n",
      "  readline           anaconda/linux-64::readline-8.0-h7b6447c_0\n",
      "  setuptools         anaconda/linux-64::setuptools-50.3.0-py38hb0f4dca_1\n",
      "  six                anaconda/noarch::six-1.15.0-py_0\n",
      "  sqlite             anaconda/linux-64::sqlite-3.33.0-h62c20be_0\n",
      "  tk                 anaconda/linux-64::tk-8.6.10-hbc83047_0\n",
      "  tornado            anaconda/linux-64::tornado-6.0.4-py38h7b6447c_1\n",
      "  traitlets          anaconda/noarch::traitlets-5.0.5-py_0\n",
      "  wcwidth            anaconda/noarch::wcwidth-0.2.5-py_0\n",
      "  wheel              anaconda/noarch::wheel-0.35.1-py_0\n",
      "  xz                 anaconda/linux-64::xz-5.2.5-h7b6447c_0\n",
      "  zeromq             anaconda/linux-64::zeromq-4.3.3-he6710b0_3\n",
      "  zlib               anaconda/linux-64::zlib-1.2.11-h7b6447c_3\n",
      "\n",
      "\n",
      "Preparing transaction: done\n",
      "Verifying transaction: done\n",
      "Executing transaction: done\n"
     ]
    }
   ],
   "source": [
    "!conda install -n producer -c anaconda ipykernel -y"
   ]
  },
  {
   "cell_type": "code",
   "execution_count": 14,
   "metadata": {},
   "outputs": [
    {
     "name": "stdout",
     "output_type": "stream",
     "text": [
      "Collecting package metadata (current_repodata.json): done\n",
      "Solving environment: done\n",
      "\n",
      "\n",
      "==> WARNING: A newer version of conda exists. <==\n",
      "  current version: 4.8.3\n",
      "  latest version: 4.9.2\n",
      "\n",
      "Please update conda by running\n",
      "\n",
      "    $ conda update -n base -c defaults conda\n",
      "\n",
      "\n",
      "\n",
      "## Package Plan ##\n",
      "\n",
      "  environment location: /home/kx/.conda/envs/producer\n",
      "\n",
      "  added / updated specs:\n",
      "    - aiokafka\n",
      "\n",
      "\n",
      "The following NEW packages will be INSTALLED:\n",
      "\n",
      "  aiokafka           conda-forge/linux-64::aiokafka-0.7.0-py38h25fe258_0\n",
      "  kafka-python       conda-forge/noarch::kafka-python-2.0.2-pyh9f0ad1d_0\n",
      "  python_abi         conda-forge/linux-64::python_abi-3.8-1_cp38\n",
      "\n",
      "The following packages will be UPDATED:\n",
      "\n",
      "  ca-certificates    anaconda::ca-certificates-2020.10.14-0 --> conda-forge::ca-certificates-2020.11.8-ha878542_0\n",
      "  certifi                anaconda::certifi-2020.6.20-py38_0 --> conda-forge::certifi-2020.11.8-py38h578d9bd_0\n",
      "\n",
      "The following packages will be SUPERSEDED by a higher-priority channel:\n",
      "\n",
      "  openssl               anaconda::openssl-1.1.1h-h7b6447c_0 --> conda-forge::openssl-1.1.1h-h516909a_0\n",
      "\n",
      "\n",
      "Preparing transaction: done\n",
      "Verifying transaction: done\n",
      "Executing transaction: done\n"
     ]
    }
   ],
   "source": [
    "!conda install -n producer -c conda-forge aiokafka -y"
   ]
  },
  {
   "cell_type": "code",
   "execution_count": 15,
   "metadata": {},
   "outputs": [
    {
     "name": "stdout",
     "output_type": "stream",
     "text": [
      "Collecting package metadata (current_repodata.json): done\n",
      "Solving environment: done\n",
      "\n",
      "\n",
      "==> WARNING: A newer version of conda exists. <==\n",
      "  current version: 4.8.3\n",
      "  latest version: 4.9.2\n",
      "\n",
      "Please update conda by running\n",
      "\n",
      "    $ conda update -n base -c defaults conda\n",
      "\n",
      "\n",
      "\n",
      "## Package Plan ##\n",
      "\n",
      "  environment location: /home/kx/.conda/envs/producer\n",
      "\n",
      "  added / updated specs:\n",
      "    - nest-asyncio\n",
      "\n",
      "\n",
      "The following NEW packages will be INSTALLED:\n",
      "\n",
      "  nest-asyncio       conda-forge/noarch::nest-asyncio-1.4.3-pyhd8ed1ab_0\n",
      "\n",
      "\n",
      "Preparing transaction: done\n",
      "Verifying transaction: done\n",
      "Executing transaction: done\n"
     ]
    }
   ],
   "source": [
    "!conda install -n producer -c conda-forge nest-asyncio -y"
   ]
  },
  {
   "cell_type": "code",
   "execution_count": 16,
   "metadata": {},
   "outputs": [
    {
     "name": "stdout",
     "output_type": "stream",
     "text": [
      "# conda environments:\r\n",
      "#\r\n",
      "kx                    *  /home/kx/.conda/envs/kx\r\n",
      "producer                 /home/kx/.conda/envs/producer\r\n",
      "base                     /opt/conda\r\n",
      "\r\n"
     ]
    }
   ],
   "source": [
    "!conda env list"
   ]
  },
  {
   "cell_type": "code",
   "execution_count": 17,
   "metadata": {},
   "outputs": [
    {
     "name": "stdout",
     "output_type": "stream",
     "text": [
      "Installed kernelspec producer in /home/kx/.local/share/jupyter/kernels/producer\r\n",
      "\r\n"
     ]
    }
   ],
   "source": [
    "!conda run -n producer python -m ipykernel install --user --name=producer"
   ]
  },
  {
   "cell_type": "code",
   "execution_count": null,
   "metadata": {},
   "outputs": [],
   "source": []
  },
  {
   "cell_type": "code",
   "execution_count": null,
   "metadata": {},
   "outputs": [],
   "source": []
  },
  {
   "cell_type": "code",
   "execution_count": 1,
   "metadata": {},
   "outputs": [],
   "source": [
    "import nest_asyncio\n",
    "nest_asyncio.apply()"
   ]
  },
  {
   "cell_type": "code",
   "execution_count": 3,
   "metadata": {},
   "outputs": [
    {
     "name": "stderr",
     "output_type": "stream",
     "text": [
      "Topic my_topic is not available during auto-create initialization\n",
      "Topic my_topic is not available during auto-create initialization\n",
      "Topic my_topic is not available during auto-create initialization\n",
      "Topic my_topic is not available during auto-create initialization\n",
      "Topic my_topic is not available during auto-create initialization\n"
     ]
    }
   ],
   "source": [
    "from aiokafka import AIOKafkaProducer\n",
    "import asyncio\n",
    "\n",
    "loop = asyncio.get_event_loop()\n",
    "\n",
    "async def send_one():\n",
    "    producer = AIOKafkaProducer(\n",
    "        loop=loop, bootstrap_servers='kafka:9092')\n",
    "    # Get cluster layout and initial topic/partition leadership information\n",
    "    await producer.start()\n",
    "    try:\n",
    "        # Produce message\n",
    "        await producer.send_and_wait(\"my_topic\", b\"Super message\")\n",
    "    finally:\n",
    "        # Wait for all pending messages to be delivered or expire.\n",
    "        await producer.stop()\n",
    "\n",
    "loop.run_until_complete(send_one())"
   ]
  },
  {
   "cell_type": "code",
   "execution_count": 14,
   "metadata": {},
   "outputs": [],
   "source": [
    "from kafka import KafkaProducer"
   ]
  },
  {
   "cell_type": "code",
   "execution_count": 15,
   "metadata": {},
   "outputs": [],
   "source": [
    "producer = KafkaProducer(bootstrap_servers='kafka1:9092')"
   ]
  },
  {
   "cell_type": "code",
   "execution_count": 16,
   "metadata": {},
   "outputs": [
    {
     "ename": "KafkaTimeoutError",
     "evalue": "KafkaTimeoutError: Failed to update metadata after 60.0 secs.",
     "output_type": "error",
     "traceback": [
      "\u001b[0;31m---------------------------------------------------------------------------\u001b[0m",
      "\u001b[0;31mKafkaTimeoutError\u001b[0m                         Traceback (most recent call last)",
      "\u001b[0;32m<ipython-input-16-ed108ac555ab>\u001b[0m in \u001b[0;36m<module>\u001b[0;34m\u001b[0m\n\u001b[1;32m      1\u001b[0m \u001b[0;32mfor\u001b[0m \u001b[0m_\u001b[0m \u001b[0;32min\u001b[0m \u001b[0mrange\u001b[0m\u001b[0;34m(\u001b[0m\u001b[0;36m100\u001b[0m\u001b[0;34m)\u001b[0m\u001b[0;34m:\u001b[0m\u001b[0;34m\u001b[0m\u001b[0;34m\u001b[0m\u001b[0m\n\u001b[0;32m----> 2\u001b[0;31m     \u001b[0mproducer\u001b[0m\u001b[0;34m.\u001b[0m\u001b[0msend\u001b[0m\u001b[0;34m(\u001b[0m\u001b[0;34m'foobar'\u001b[0m\u001b[0;34m,\u001b[0m \u001b[0;34mb'some_message_bytes'\u001b[0m\u001b[0;34m)\u001b[0m\u001b[0;34m\u001b[0m\u001b[0;34m\u001b[0m\u001b[0m\n\u001b[0m",
      "\u001b[0;32m~/.conda/envs/producer/lib/python3.8/site-packages/kafka/producer/kafka.py\u001b[0m in \u001b[0;36msend\u001b[0;34m(self, topic, value, key, headers, partition, timestamp_ms)\u001b[0m\n\u001b[1;32m    574\u001b[0m         \u001b[0mkey_bytes\u001b[0m \u001b[0;34m=\u001b[0m \u001b[0mvalue_bytes\u001b[0m \u001b[0;34m=\u001b[0m \u001b[0;32mNone\u001b[0m\u001b[0;34m\u001b[0m\u001b[0;34m\u001b[0m\u001b[0m\n\u001b[1;32m    575\u001b[0m         \u001b[0;32mtry\u001b[0m\u001b[0;34m:\u001b[0m\u001b[0;34m\u001b[0m\u001b[0;34m\u001b[0m\u001b[0m\n\u001b[0;32m--> 576\u001b[0;31m             \u001b[0mself\u001b[0m\u001b[0;34m.\u001b[0m\u001b[0m_wait_on_metadata\u001b[0m\u001b[0;34m(\u001b[0m\u001b[0mtopic\u001b[0m\u001b[0;34m,\u001b[0m \u001b[0mself\u001b[0m\u001b[0;34m.\u001b[0m\u001b[0mconfig\u001b[0m\u001b[0;34m[\u001b[0m\u001b[0;34m'max_block_ms'\u001b[0m\u001b[0;34m]\u001b[0m \u001b[0;34m/\u001b[0m \u001b[0;36m1000.0\u001b[0m\u001b[0;34m)\u001b[0m\u001b[0;34m\u001b[0m\u001b[0;34m\u001b[0m\u001b[0m\n\u001b[0m\u001b[1;32m    577\u001b[0m \u001b[0;34m\u001b[0m\u001b[0m\n\u001b[1;32m    578\u001b[0m             key_bytes = self._serialize(\n",
      "\u001b[0;32m~/.conda/envs/producer/lib/python3.8/site-packages/kafka/producer/kafka.py\u001b[0m in \u001b[0;36m_wait_on_metadata\u001b[0;34m(self, topic, max_wait)\u001b[0m\n\u001b[1;32m    700\u001b[0m             \u001b[0melapsed\u001b[0m \u001b[0;34m=\u001b[0m \u001b[0mtime\u001b[0m\u001b[0;34m.\u001b[0m\u001b[0mtime\u001b[0m\u001b[0;34m(\u001b[0m\u001b[0;34m)\u001b[0m \u001b[0;34m-\u001b[0m \u001b[0mbegin\u001b[0m\u001b[0;34m\u001b[0m\u001b[0;34m\u001b[0m\u001b[0m\n\u001b[1;32m    701\u001b[0m             \u001b[0;32mif\u001b[0m \u001b[0;32mnot\u001b[0m \u001b[0mmetadata_event\u001b[0m\u001b[0;34m.\u001b[0m\u001b[0mis_set\u001b[0m\u001b[0;34m(\u001b[0m\u001b[0;34m)\u001b[0m\u001b[0;34m:\u001b[0m\u001b[0;34m\u001b[0m\u001b[0;34m\u001b[0m\u001b[0m\n\u001b[0;32m--> 702\u001b[0;31m                 raise Errors.KafkaTimeoutError(\n\u001b[0m\u001b[1;32m    703\u001b[0m                     \"Failed to update metadata after %.1f secs.\" % (max_wait,))\n\u001b[1;32m    704\u001b[0m             \u001b[0;32melif\u001b[0m \u001b[0mtopic\u001b[0m \u001b[0;32min\u001b[0m \u001b[0mself\u001b[0m\u001b[0;34m.\u001b[0m\u001b[0m_metadata\u001b[0m\u001b[0;34m.\u001b[0m\u001b[0munauthorized_topics\u001b[0m\u001b[0;34m:\u001b[0m\u001b[0;34m\u001b[0m\u001b[0;34m\u001b[0m\u001b[0m\n",
      "\u001b[0;31mKafkaTimeoutError\u001b[0m: KafkaTimeoutError: Failed to update metadata after 60.0 secs."
     ]
    }
   ],
   "source": [
    "for _ in range(100):\n",
    "    producer.send('foobar', b'some_message_bytes')"
   ]
  }
 ],
 "metadata": {
  "kernelspec": {
   "display_name": "producer",
   "language": "python",
   "name": "producer"
  },
  "language_info": {
   "codemirror_mode": {
    "name": "ipython",
    "version": 3
   },
   "file_extension": ".py",
   "mimetype": "text/x-python",
   "name": "python",
   "nbconvert_exporter": "python",
   "pygments_lexer": "ipython3",
   "version": "3.8.5"
  }
 },
 "nbformat": 4,
 "nbformat_minor": 4
}
