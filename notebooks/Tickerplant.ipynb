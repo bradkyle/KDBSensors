{
 "cells": [
  {
   "cell_type": "code",
   "execution_count": null,
   "metadata": {},
   "outputs": [],
   "source": []
  },
  {
   "cell_type": "code",
   "execution_count": null,
   "metadata": {},
   "outputs": [],
   "source": []
  },
  {
   "cell_type": "code",
   "execution_count": 1,
   "metadata": {},
   "outputs": [],
   "source": [
    "\\p 5001"
   ]
  },
  {
   "cell_type": "code",
   "execution_count": 2,
   "metadata": {},
   "outputs": [],
   "source": [
    "// create pubsub handle\n",
    ".tplant.pshandle:hopen`::5002;"
   ]
  },
  {
   "cell_type": "code",
   "execution_count": null,
   "metadata": {},
   "outputs": [],
   "source": [
    "events:([eId: `long$()]\n",
    "  intime:`datetime$();\n",
    "  time:`datetime$(); \n",
    "  source:`symbol$();\n",
    "  chan:`symbol$();\n",
    "  entity:`symbol$();\n",
    "  datum:();\n",
    "  );"
   ]
  },
  {
   "cell_type": "code",
   "execution_count": null,
   "metadata": {},
   "outputs": [],
   "source": [
    "getbatch :{[batchSize]\n",
    "    batchSize:min[maxBatchSize;batchSize];\n",
    "    :select[batchSize;<intime] from events;\n",
    "    };"
   ]
  },
  {
   "cell_type": "code",
   "execution_count": null,
   "metadata": {},
   "outputs": [],
   "source": [
    "ackbatch :{[eventIds]\n",
    "    //TODO sanitization/serialization\n",
    "    :delete from `events where eId in eventIds;\n",
    "    };"
   ]
  },
  {
   "cell_type": "code",
   "execution_count": null,
   "metadata": {},
   "outputs": [],
   "source": [
    "addevents :{[events]\n",
    "    // TODO sanitization/serialization\n",
    "    events,:events;\n",
    "    .tplant.pshandle(\"emit\";events);\n",
    "    };"
   ]
  },
  {
   "cell_type": "code",
   "execution_count": null,
   "metadata": {},
   "outputs": [],
   "source": []
  }
 ],
 "metadata": {
  "kernelspec": {
   "display_name": "Q (kdb+)",
   "language": "q",
   "name": "qpk"
  },
  "language_info": {
   "file_extension": ".q",
   "mimetype": "text/x-q",
   "name": "q",
   "version": "4.0"
  }
 },
 "nbformat": 4,
 "nbformat_minor": 4
}
