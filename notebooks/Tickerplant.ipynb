{
 "cells": [
  {
   "cell_type": "code",
   "execution_count": 0,
   "metadata": {},
   "outputs": [
    {
     "ename": "\u001b[0;31m/home/kx/.conda/envs/kx/q/l64/libkfk.so: undefined symbol: rd_kafka_type\u001b[0m",
     "evalue": "\u001b[0;31m/home/kx/.conda/envs/kx/q/l64/libkfk.so: undefined symbol: rd_kafka_type\u001b[0m",
     "output_type": "error",
     "traceback": [
      "\u001b[0;31mevaluation error:\n\u001b[0m",
      "\u001b[0;31m/home/kx/.conda/envs/kx/q/l64/libkfk.so: undefined symbol: rd_kafka_type\u001b[0m",
      "\u001b[0;31m\u001b[0m",
      "\u001b[0;31m  [3]  /home/kx/kafka/kfk.q:72: .kfk,:(`$3_'string funcs[;0])!LIBPATH@/:funcs\n                                                                      ^\n\u001b[0m",
      "\u001b[0;31m  [0]  \\l ../kafka/kfk.q\n       ^\n\u001b[0m"
     ]
    }
   ],
   "source": [
    "\\cd /home/kx/mb/\n",
    "\\l ../kafka/kfk.q\n",
    "\n",
    "kfk_cfg:(!) . flip(\n",
    "    (`metadata.broker.list;`kafka:9092);\n",
    "    (`group.id;`0);\n",
    "    (`fetch.wait.max.ms;`10);\n",
    "    (`statistics.interval.ms;`10000)\n",
    "    );\n",
    "client:.kfk.Consumer[kfk_cfg];\n",
    "\n",
    "// Topics to subscribe to\n",
    "topic1:`test1; topic2:`test2;\n",
    "\n",
    "// Define datasets and topic callbacks for individual\n",
    "// topic subscriptions `topic1 and `topic2\n",
    "data1:();\n",
    "topcb1:{[msg]\n",
    "  msg[`data]:\"c\"$msg[`data];\n",
    "  msg[`rcvtime]:.z.p;\n",
    "  data1,::enlist msg;}\n",
    "\n",
    "data2:();\n",
    "topcb2:{[msg]\n",
    "  msg[`data]:\"c\"$msg[`data];\n",
    "  msg[`rcvtime]:.z.t;\n",
    "  data2,::enlist msg;\n",
    "  show msg;\n",
    "  };\n",
    "\n",
    "// Subscribe to topic1 and topic2 with different callbacks from a single client\n",
    ".kfk.Subscribe[client;topic1;enlist .kfk.PARTITION_UA;topcb1]\n",
    ".kfk.Subscribe[client;topic2;enlist .kfk.PARTITION_UA;topcb2]\n",
    "\n",
    "client_meta:.kfk.Metadata[client];\n",
    "show client_meta`topics;"
   ]
  },
  {
   "cell_type": "code",
   "execution_count": 1,
   "metadata": {},
   "outputs": [],
   "source": [
    "\\cd /home/kx/kafka"
   ]
  },
  {
   "cell_type": "code",
   "execution_count": 1,
   "metadata": {},
   "outputs": [
    {
     "ename": "\u001b[0;31m/home/kx/.conda/envs/kx/q/l64/libkfk.so: undefined symbol: rd_kafka_type\u001b[0m",
     "evalue": "\u001b[0;31m/home/kx/.conda/envs/kx/q/l64/libkfk.so: undefined symbol: rd_kafka_type\u001b[0m",
     "output_type": "error",
     "traceback": [
      "\u001b[0;31mevaluation error:\n\u001b[0m",
      "\u001b[0;31m/home/kx/.conda/envs/kx/q/l64/libkfk.so: undefined symbol: rd_kafka_type\u001b[0m",
      "\u001b[0;31m\u001b[0m",
      "\u001b[0;31m  [3]  /home/kx/kafka/kfk.q:72: .kfk,:(`$3_'string funcs[;0])!LIBPATH@/:funcs\n                                                                      ^\n\u001b[0m",
      "\u001b[0;31m  [0]  \\l kfk.q\n       ^\n\u001b[0m"
     ]
    }
   ],
   "source": [
    "\\l kfk.q"
   ]
  },
  {
   "cell_type": "code",
   "execution_count": 4,
   "metadata": {},
   "outputs": [
    {
     "data": {
      "text/plain": [
       "\"/home/kx/mb/kafka/kafka\"\n"
      ]
     },
     "execution_count": 4,
     "metadata": {},
     "output_type": "execute_result"
    }
   ],
   "source": [
    "\\pwd"
   ]
  },
  {
   "cell_type": "code",
   "execution_count": 2,
   "metadata": {},
   "outputs": [
    {
     "data": {
      "text/plain": [
       "\"CONTRIBUTING.md\"\n",
       "\"LICENSE\"\n",
       "\"Makefile\"\n",
       "\"README.md\"\n",
       "\"build\"\n",
       "\"examples\"\n",
       "\"kfk.c\"\n",
       "\"kfk.q\"\n",
       "\"socketpair.c\"\n"
      ]
     },
     "execution_count": 2,
     "metadata": {},
     "output_type": "execute_result"
    }
   ],
   "source": [
    "\\ls kafka"
   ]
  },
  {
   "cell_type": "code",
   "execution_count": null,
   "metadata": {},
   "outputs": [],
   "source": []
  },
  {
   "cell_type": "code",
   "execution_count": 1,
   "metadata": {},
   "outputs": [],
   "source": [
    "\\p 5001"
   ]
  },
  {
   "cell_type": "code",
   "execution_count": 2,
   "metadata": {},
   "outputs": [],
   "source": [
    "// create pubsub handle\n",
    ".tplant.pshandle:hopen`::5002;"
   ]
  },
  {
   "cell_type": "code",
   "execution_count": null,
   "metadata": {},
   "outputs": [],
   "source": [
    "events:([eId: `long$()]\n",
    "  intime:`datetime$();\n",
    "  time:`datetime$(); \n",
    "  source:`symbol$();\n",
    "  chan:`symbol$();\n",
    "  entity:`symbol$();\n",
    "  datum:();\n",
    "  );"
   ]
  },
  {
   "cell_type": "code",
   "execution_count": null,
   "metadata": {},
   "outputs": [],
   "source": [
    "getbatch :{[batchSize]\n",
    "    batchSize:min[maxBatchSize;batchSize];\n",
    "    :select[batchSize;<intime] from events;\n",
    "    };"
   ]
  },
  {
   "cell_type": "code",
   "execution_count": null,
   "metadata": {},
   "outputs": [],
   "source": [
    "ackbatch :{[eventIds]\n",
    "    //TODO sanitization/serialization\n",
    "    :delete from `events where eId in eventIds;\n",
    "    };"
   ]
  },
  {
   "cell_type": "code",
   "execution_count": null,
   "metadata": {},
   "outputs": [],
   "source": [
    "addevents :{[events]\n",
    "    // TODO sanitization/serialization\n",
    "    events,:events;\n",
    "    .tplant.pshandle(\"emit\";events);\n",
    "    };"
   ]
  },
  {
   "cell_type": "code",
   "execution_count": null,
   "metadata": {},
   "outputs": [],
   "source": [
    "//read from kafka vs server"
   ]
  }
 ],
 "metadata": {
  "kernelspec": {
   "display_name": "Q (kdb+)",
   "language": "q",
   "name": "qpk"
  },
  "language_info": {
   "file_extension": ".q",
   "mimetype": "text/x-q",
   "name": "q",
   "version": "4.0"
  }
 },
 "nbformat": 4,
 "nbformat_minor": 4
}
