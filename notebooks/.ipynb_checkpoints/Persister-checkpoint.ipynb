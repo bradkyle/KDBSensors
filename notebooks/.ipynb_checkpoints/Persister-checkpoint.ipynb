{
 "cells": [
  {
   "cell_type": "code",
   "execution_count": 1,
   "metadata": {},
   "outputs": [],
   "source": [
    ".persist.tphandle:hopen`::5001;"
   ]
  },
  {
   "cell_type": "code",
   "execution_count": 2,
   "metadata": {},
   "outputs": [],
   "source": [
    "batchsize:10000"
   ]
  },
  {
   "cell_type": "code",
   "execution_count": null,
   "metadata": {},
   "outputs": [],
   "source": [
    "\\c 10 300\n",
    "\\cd kdb-common\n",
    "\\l src/require.q\n",
    ".require.init[];\n",
    "\\l src/file.q\n",
    "\\l src/ipc.q\n",
    "\\cd ../\n",
    "\n",
    "\n",
    "// Main HDB logic\n",
    "args:.Q.opt[.z.x];\n",
    "tport:first\"J\"$args[`tport];\n",
    "batchsize:first\"J\"$args[`batchsize];\n",
    "outpath:first `$args[`outpath];\n",
    "interval:first \"J\"$args[`interval];\n",
    "show args;\n",
    "\n",
    ".worker.write:{[outpath;x]  \n",
    "      x:(0!(`utc_day`source`inst`chan xgroup x));\n",
    "      {\n",
    "        path:(` sv x,(`$string[y[`utc_day]]),y[`source],y[`inst],y[`chan],`$\"\");\n",
    "        path upsert .Q.en[`:db;] flip[y];\n",
    "      }[outpath]'[x]; \n",
    "  };"
   ]
  },
  {
   "cell_type": "code",
   "execution_count": null,
   "metadata": {},
   "outputs": [],
   "source": [
    ".z.ts:{\n",
    "    events:.persist.tphandle(\"getbatch\";batchsize);\n",
    "    $[count[batch]>0;[\n",
    "        .worker.write[args`outpath;batch];\n",
    "        h(\"ackbatch\";batch[`eid]);\n",
    "    ];[\n",
    "        show \"Empty Batch\";\t\n",
    "    ]];\n",
    "    };"
   ]
  },
  {
   "cell_type": "code",
   "execution_count": null,
   "metadata": {},
   "outputs": [],
   "source": [
    "\\t 1000"
   ]
  },
  {
   "cell_type": "code",
   "execution_count": null,
   "metadata": {},
   "outputs": [],
   "source": []
  },
  {
   "cell_type": "code",
   "execution_count": null,
   "metadata": {},
   "outputs": [],
   "source": []
  },
  {
   "cell_type": "code",
   "execution_count": null,
   "metadata": {},
   "outputs": [],
   "source": []
  },
  {
   "cell_type": "code",
   "execution_count": null,
   "metadata": {},
   "outputs": [],
   "source": []
  },
  {
   "cell_type": "code",
   "execution_count": null,
   "metadata": {},
   "outputs": [],
   "source": []
  },
  {
   "cell_type": "code",
   "execution_count": null,
   "metadata": {},
   "outputs": [],
   "source": []
  },
  {
   "cell_type": "code",
   "execution_count": null,
   "metadata": {},
   "outputs": [],
   "source": []
  },
  {
   "cell_type": "code",
   "execution_count": null,
   "metadata": {},
   "outputs": [],
   "source": []
  }
 ],
 "metadata": {
  "kernelspec": {
   "display_name": "Q (kdb+)",
   "language": "q",
   "name": "qpk"
  },
  "language_info": {
   "file_extension": ".q",
   "mimetype": "text/x-q",
   "name": "q",
   "version": "4.0"
  }
 },
 "nbformat": 4,
 "nbformat_minor": 4
}
